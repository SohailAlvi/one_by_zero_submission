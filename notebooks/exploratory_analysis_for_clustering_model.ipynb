{
 "cells": [
  {
   "cell_type": "markdown",
   "id": "a2a0500a-a5cb-4016-b41f-2aceb60e66f4",
   "metadata": {},
   "source": [
    "# Imports"
   ]
  },
  {
   "cell_type": "code",
   "execution_count": 1,
   "id": "beac1ff8-c5e7-4167-ad74-0daf9db0bc33",
   "metadata": {},
   "outputs": [],
   "source": [
    "import pandas as pd\n",
    "import numpy as np\n",
    "from sklearn.preprocessing import StandardScaler\n",
    "from sklearn.cluster import KMeans\n",
    "from sklearn.decomposition import PCA\n",
    "from sklearn.metrics import silhouette_score, davies_bouldin_score, calinski_harabasz_score\n",
    "import matplotlib.pyplot as plt\n",
    "from mpl_toolkits import mplot3d\n",
    "import seaborn as sns\n",
    "import warnings"
   ]
  },
  {
   "cell_type": "markdown",
   "id": "d80bc1cc-df8a-4f9e-ad2a-dbc13293215e",
   "metadata": {},
   "source": [
    "# Constants"
   ]
  },
  {
   "cell_type": "code",
   "execution_count": 2,
   "id": "8c759cb2-b271-4dfa-b902-94fca6f1a20b",
   "metadata": {},
   "outputs": [],
   "source": [
    "DATA_PATH = \"../data/res_purchase_card_fiscal_year_2014_3pcd-aiuu.csv\""
   ]
  },
  {
   "cell_type": "markdown",
   "id": "d1f0223f-13af-439b-abc7-e5f9843eab27",
   "metadata": {},
   "source": [
    "# Load"
   ]
  },
  {
   "cell_type": "code",
   "execution_count": 3,
   "id": "6fa3cc7f-1ce3-4914-b87c-dc354afd2856",
   "metadata": {},
   "outputs": [
    {
     "data": {
      "text/html": [
       "<div>\n",
       "<style scoped>\n",
       "    .dataframe tbody tr th:only-of-type {\n",
       "        vertical-align: middle;\n",
       "    }\n",
       "\n",
       "    .dataframe tbody tr th {\n",
       "        vertical-align: top;\n",
       "    }\n",
       "\n",
       "    .dataframe thead th {\n",
       "        text-align: right;\n",
       "    }\n",
       "</style>\n",
       "<table border=\"1\" class=\"dataframe\">\n",
       "  <thead>\n",
       "    <tr style=\"text-align: right;\">\n",
       "      <th></th>\n",
       "      <th>Year-Month</th>\n",
       "      <th>Agency Number</th>\n",
       "      <th>Agency Name</th>\n",
       "      <th>Cardholder Last Name</th>\n",
       "      <th>Cardholder First Initial</th>\n",
       "      <th>Description</th>\n",
       "      <th>Amount</th>\n",
       "      <th>Vendor</th>\n",
       "      <th>Transaction Date</th>\n",
       "      <th>Posted Date</th>\n",
       "      <th>Merchant Category Code (MCC)</th>\n",
       "    </tr>\n",
       "  </thead>\n",
       "  <tbody>\n",
       "    <tr>\n",
       "      <th>0</th>\n",
       "      <td>201307</td>\n",
       "      <td>1000</td>\n",
       "      <td>OKLAHOMA STATE UNIVERSITY</td>\n",
       "      <td>Mason</td>\n",
       "      <td>C</td>\n",
       "      <td>GENERAL PURCHASE</td>\n",
       "      <td>890.00</td>\n",
       "      <td>NACAS</td>\n",
       "      <td>07/30/2013 12:00:00 AM</td>\n",
       "      <td>07/31/2013 12:00:00 AM</td>\n",
       "      <td>CHARITABLE AND SOCIAL SERVICE ORGANIZATIONS</td>\n",
       "    </tr>\n",
       "    <tr>\n",
       "      <th>1</th>\n",
       "      <td>201307</td>\n",
       "      <td>1000</td>\n",
       "      <td>OKLAHOMA STATE UNIVERSITY</td>\n",
       "      <td>Mason</td>\n",
       "      <td>C</td>\n",
       "      <td>ROOM CHARGES</td>\n",
       "      <td>368.96</td>\n",
       "      <td>SHERATON HOTEL</td>\n",
       "      <td>07/30/2013 12:00:00 AM</td>\n",
       "      <td>07/31/2013 12:00:00 AM</td>\n",
       "      <td>SHERATON</td>\n",
       "    </tr>\n",
       "    <tr>\n",
       "      <th>2</th>\n",
       "      <td>201307</td>\n",
       "      <td>1000</td>\n",
       "      <td>OKLAHOMA STATE UNIVERSITY</td>\n",
       "      <td>Massey</td>\n",
       "      <td>J</td>\n",
       "      <td>GENERAL PURCHASE</td>\n",
       "      <td>165.82</td>\n",
       "      <td>SEARS.COM 9300</td>\n",
       "      <td>07/29/2013 12:00:00 AM</td>\n",
       "      <td>07/31/2013 12:00:00 AM</td>\n",
       "      <td>DIRCT MARKETING/DIRCT MARKETERS--NOT ELSEWHERE...</td>\n",
       "    </tr>\n",
       "    <tr>\n",
       "      <th>3</th>\n",
       "      <td>201307</td>\n",
       "      <td>1000</td>\n",
       "      <td>OKLAHOMA STATE UNIVERSITY</td>\n",
       "      <td>Massey</td>\n",
       "      <td>T</td>\n",
       "      <td>GENERAL PURCHASE</td>\n",
       "      <td>96.39</td>\n",
       "      <td>WAL-MART #0137</td>\n",
       "      <td>07/30/2013 12:00:00 AM</td>\n",
       "      <td>07/31/2013 12:00:00 AM</td>\n",
       "      <td>GROCERY STORES,AND SUPERMARKETS</td>\n",
       "    </tr>\n",
       "    <tr>\n",
       "      <th>4</th>\n",
       "      <td>201307</td>\n",
       "      <td>1000</td>\n",
       "      <td>OKLAHOMA STATE UNIVERSITY</td>\n",
       "      <td>Mauro-Herrera</td>\n",
       "      <td>M</td>\n",
       "      <td>HAMMERMILL COPY PLUS COPY EA</td>\n",
       "      <td>125.96</td>\n",
       "      <td>STAPLES DIRECT</td>\n",
       "      <td>07/30/2013 12:00:00 AM</td>\n",
       "      <td>07/31/2013 12:00:00 AM</td>\n",
       "      <td>STATIONERY, OFFICE SUPPLIES, PRINTING AND WRIT...</td>\n",
       "    </tr>\n",
       "  </tbody>\n",
       "</table>\n",
       "</div>"
      ],
      "text/plain": [
       "   Year-Month  Agency Number                Agency Name Cardholder Last Name  \\\n",
       "0      201307           1000  OKLAHOMA STATE UNIVERSITY                Mason   \n",
       "1      201307           1000  OKLAHOMA STATE UNIVERSITY                Mason   \n",
       "2      201307           1000  OKLAHOMA STATE UNIVERSITY               Massey   \n",
       "3      201307           1000  OKLAHOMA STATE UNIVERSITY               Massey   \n",
       "4      201307           1000  OKLAHOMA STATE UNIVERSITY        Mauro-Herrera   \n",
       "\n",
       "  Cardholder First Initial                   Description  Amount  \\\n",
       "0                        C              GENERAL PURCHASE  890.00   \n",
       "1                        C                  ROOM CHARGES  368.96   \n",
       "2                        J              GENERAL PURCHASE  165.82   \n",
       "3                        T              GENERAL PURCHASE   96.39   \n",
       "4                        M  HAMMERMILL COPY PLUS COPY EA  125.96   \n",
       "\n",
       "           Vendor        Transaction Date             Posted Date  \\\n",
       "0           NACAS  07/30/2013 12:00:00 AM  07/31/2013 12:00:00 AM   \n",
       "1  SHERATON HOTEL  07/30/2013 12:00:00 AM  07/31/2013 12:00:00 AM   \n",
       "2  SEARS.COM 9300  07/29/2013 12:00:00 AM  07/31/2013 12:00:00 AM   \n",
       "3  WAL-MART #0137  07/30/2013 12:00:00 AM  07/31/2013 12:00:00 AM   \n",
       "4  STAPLES DIRECT  07/30/2013 12:00:00 AM  07/31/2013 12:00:00 AM   \n",
       "\n",
       "                        Merchant Category Code (MCC)  \n",
       "0        CHARITABLE AND SOCIAL SERVICE ORGANIZATIONS  \n",
       "1                                           SHERATON  \n",
       "2  DIRCT MARKETING/DIRCT MARKETERS--NOT ELSEWHERE...  \n",
       "3                    GROCERY STORES,AND SUPERMARKETS  \n",
       "4  STATIONERY, OFFICE SUPPLIES, PRINTING AND WRIT...  "
      ]
     },
     "execution_count": 3,
     "metadata": {},
     "output_type": "execute_result"
    }
   ],
   "source": [
    "df = pd.read_csv(DATA_PATH)\n",
    "df.head(5)"
   ]
  },
  {
   "cell_type": "code",
   "execution_count": 4,
   "id": "99982566-8912-4de6-9566-b7db4c304590",
   "metadata": {},
   "outputs": [
    {
     "data": {
      "text/plain": [
       "(442458, 11)"
      ]
     },
     "execution_count": 4,
     "metadata": {},
     "output_type": "execute_result"
    }
   ],
   "source": [
    "df.shape"
   ]
  },
  {
   "cell_type": "code",
   "execution_count": 5,
   "id": "fc72b7b4-0d09-4100-a078-2a3f84d97bf1",
   "metadata": {},
   "outputs": [
    {
     "name": "stdout",
     "output_type": "stream",
     "text": [
      "<class 'pandas.core.frame.DataFrame'>\n",
      "RangeIndex: 442458 entries, 0 to 442457\n",
      "Data columns (total 11 columns):\n",
      " #   Column                        Non-Null Count   Dtype  \n",
      "---  ------                        --------------   -----  \n",
      " 0   Year-Month                    442458 non-null  int64  \n",
      " 1   Agency Number                 442458 non-null  int64  \n",
      " 2   Agency Name                   442458 non-null  object \n",
      " 3   Cardholder Last Name          442458 non-null  object \n",
      " 4   Cardholder First Initial      442458 non-null  object \n",
      " 5   Description                   442458 non-null  object \n",
      " 6   Amount                        442458 non-null  float64\n",
      " 7   Vendor                        442458 non-null  object \n",
      " 8   Transaction Date              442458 non-null  object \n",
      " 9   Posted Date                   442458 non-null  object \n",
      " 10  Merchant Category Code (MCC)  442458 non-null  object \n",
      "dtypes: float64(1), int64(2), object(8)\n",
      "memory usage: 37.1+ MB\n"
     ]
    }
   ],
   "source": [
    "df.info()"
   ]
  },
  {
   "cell_type": "code",
   "execution_count": 6,
   "id": "67683281-148d-44ff-8d9e-cb8fb81a5c3a",
   "metadata": {},
   "outputs": [
    {
     "data": {
      "text/plain": [
       "Year-Month                      0.0\n",
       "Agency Number                   0.0\n",
       "Agency Name                     0.0\n",
       "Cardholder Last Name            0.0\n",
       "Cardholder First Initial        0.0\n",
       "Description                     0.0\n",
       "Amount                          0.0\n",
       "Vendor                          0.0\n",
       "Transaction Date                0.0\n",
       "Posted Date                     0.0\n",
       "Merchant Category Code (MCC)    0.0\n",
       "dtype: float64"
      ]
     },
     "execution_count": 6,
     "metadata": {},
     "output_type": "execute_result"
    }
   ],
   "source": [
    "df.isnull().mean().round(5)*100"
   ]
  },
  {
   "cell_type": "code",
   "execution_count": 7,
   "id": "3dda5c5a-de01-4c3e-a9ac-6813edb76fd5",
   "metadata": {},
   "outputs": [
    {
     "data": {
      "text/html": [
       "<div>\n",
       "<style scoped>\n",
       "    .dataframe tbody tr th:only-of-type {\n",
       "        vertical-align: middle;\n",
       "    }\n",
       "\n",
       "    .dataframe tbody tr th {\n",
       "        vertical-align: top;\n",
       "    }\n",
       "\n",
       "    .dataframe thead th {\n",
       "        text-align: right;\n",
       "    }\n",
       "</style>\n",
       "<table border=\"1\" class=\"dataframe\">\n",
       "  <thead>\n",
       "    <tr style=\"text-align: right;\">\n",
       "      <th></th>\n",
       "      <th>Year-Month</th>\n",
       "      <th>Agency Number</th>\n",
       "      <th>Amount</th>\n",
       "    </tr>\n",
       "  </thead>\n",
       "  <tbody>\n",
       "    <tr>\n",
       "      <th>count</th>\n",
       "      <td>442458.000000</td>\n",
       "      <td>442458.000000</td>\n",
       "      <td>4.424580e+05</td>\n",
       "    </tr>\n",
       "    <tr>\n",
       "      <th>mean</th>\n",
       "      <td>201357.284375</td>\n",
       "      <td>42785.860353</td>\n",
       "      <td>4.249912e+02</td>\n",
       "    </tr>\n",
       "    <tr>\n",
       "      <th>std</th>\n",
       "      <td>47.107417</td>\n",
       "      <td>33378.461293</td>\n",
       "      <td>5.266509e+03</td>\n",
       "    </tr>\n",
       "    <tr>\n",
       "      <th>min</th>\n",
       "      <td>201307.000000</td>\n",
       "      <td>1000.000000</td>\n",
       "      <td>-4.286304e+04</td>\n",
       "    </tr>\n",
       "    <tr>\n",
       "      <th>25%</th>\n",
       "      <td>201309.000000</td>\n",
       "      <td>1000.000000</td>\n",
       "      <td>3.091000e+01</td>\n",
       "    </tr>\n",
       "    <tr>\n",
       "      <th>50%</th>\n",
       "      <td>201401.000000</td>\n",
       "      <td>47700.000000</td>\n",
       "      <td>1.048900e+02</td>\n",
       "    </tr>\n",
       "    <tr>\n",
       "      <th>75%</th>\n",
       "      <td>201404.000000</td>\n",
       "      <td>76000.000000</td>\n",
       "      <td>3.450000e+02</td>\n",
       "    </tr>\n",
       "    <tr>\n",
       "      <th>max</th>\n",
       "      <td>201406.000000</td>\n",
       "      <td>98000.000000</td>\n",
       "      <td>1.903858e+06</td>\n",
       "    </tr>\n",
       "  </tbody>\n",
       "</table>\n",
       "</div>"
      ],
      "text/plain": [
       "          Year-Month  Agency Number        Amount\n",
       "count  442458.000000  442458.000000  4.424580e+05\n",
       "mean   201357.284375   42785.860353  4.249912e+02\n",
       "std        47.107417   33378.461293  5.266509e+03\n",
       "min    201307.000000    1000.000000 -4.286304e+04\n",
       "25%    201309.000000    1000.000000  3.091000e+01\n",
       "50%    201401.000000   47700.000000  1.048900e+02\n",
       "75%    201404.000000   76000.000000  3.450000e+02\n",
       "max    201406.000000   98000.000000  1.903858e+06"
      ]
     },
     "execution_count": 7,
     "metadata": {},
     "output_type": "execute_result"
    }
   ],
   "source": [
    "df.describe()"
   ]
  },
  {
   "cell_type": "markdown",
   "id": "e7a79357-3d78-4611-83cb-33e507439378",
   "metadata": {},
   "source": [
    "There are values in Amount which are negative"
   ]
  },
  {
   "cell_type": "code",
   "execution_count": 8,
   "id": "fcdc7285-76f8-4894-88b7-421491667c7a",
   "metadata": {},
   "outputs": [
    {
     "data": {
      "text/plain": [
       "Index(['Year-Month', 'Agency Number', 'Agency Name', 'Cardholder Last Name',\n",
       "       'Cardholder First Initial', 'Description', 'Amount', 'Vendor',\n",
       "       'Transaction Date', 'Posted Date', 'Merchant Category Code (MCC)'],\n",
       "      dtype='object')"
      ]
     },
     "execution_count": 8,
     "metadata": {},
     "output_type": "execute_result"
    }
   ],
   "source": [
    "df.columns"
   ]
  },
  {
   "cell_type": "markdown",
   "id": "6f7c8f7e-58fe-41d1-aaaf-70a8ad5cf6d6",
   "metadata": {},
   "source": [
    "### Assuming the transaction with Negative Amount values are refund"
   ]
  },
  {
   "cell_type": "code",
   "execution_count": 9,
   "id": "9b1a50ed-c41b-456c-812f-dc505f313ebf",
   "metadata": {
    "scrolled": true
   },
   "outputs": [
    {
     "name": "stdout",
     "output_type": "stream",
     "text": [
      "<class 'pandas.core.frame.DataFrame'>\n",
      "Int64Index: 427927 entries, 0 to 442457\n",
      "Data columns (total 11 columns):\n",
      " #   Column                        Non-Null Count   Dtype  \n",
      "---  ------                        --------------   -----  \n",
      " 0   Year-Month                    427927 non-null  int64  \n",
      " 1   Agency Number                 427927 non-null  int64  \n",
      " 2   Agency Name                   427927 non-null  object \n",
      " 3   Cardholder Last Name          427927 non-null  object \n",
      " 4   Cardholder First Initial      427927 non-null  object \n",
      " 5   Description                   427927 non-null  object \n",
      " 6   Amount                        427927 non-null  float64\n",
      " 7   Vendor                        427927 non-null  object \n",
      " 8   Transaction Date              427927 non-null  object \n",
      " 9   Posted Date                   427927 non-null  object \n",
      " 10  Merchant Category Code (MCC)  427927 non-null  object \n",
      "dtypes: float64(1), int64(2), object(8)\n",
      "memory usage: 39.2+ MB\n"
     ]
    }
   ],
   "source": [
    "df_positive_amt = df[df[\"Amount\"] > 0]\n",
    "df_positive_amt.info()"
   ]
  },
  {
   "cell_type": "code",
   "execution_count": 10,
   "id": "062df65b-adf1-4787-ad04-30acb6f1585b",
   "metadata": {},
   "outputs": [
    {
     "name": "stderr",
     "output_type": "stream",
     "text": [
      "C:\\Users\\sohai\\miniconda3\\envs\\one_by_zero_submission_2\\lib\\site-packages\\ipykernel_launcher.py:1: SettingWithCopyWarning: \n",
      "A value is trying to be set on a copy of a slice from a DataFrame.\n",
      "Try using .loc[row_indexer,col_indexer] = value instead\n",
      "\n",
      "See the caveats in the documentation: https://pandas.pydata.org/pandas-docs/stable/user_guide/indexing.html#returning-a-view-versus-a-copy\n",
      "  \"\"\"Entry point for launching an IPython kernel.\n"
     ]
    },
    {
     "data": {
      "text/html": [
       "<div>\n",
       "<style scoped>\n",
       "    .dataframe tbody tr th:only-of-type {\n",
       "        vertical-align: middle;\n",
       "    }\n",
       "\n",
       "    .dataframe tbody tr th {\n",
       "        vertical-align: top;\n",
       "    }\n",
       "\n",
       "    .dataframe thead th {\n",
       "        text-align: right;\n",
       "    }\n",
       "</style>\n",
       "<table border=\"1\" class=\"dataframe\">\n",
       "  <thead>\n",
       "    <tr style=\"text-align: right;\">\n",
       "      <th></th>\n",
       "      <th>Year-Month</th>\n",
       "      <th>Agency Number</th>\n",
       "      <th>Agency Name</th>\n",
       "      <th>Cardholder Last Name</th>\n",
       "      <th>Cardholder First Initial</th>\n",
       "      <th>Description</th>\n",
       "      <th>Amount</th>\n",
       "      <th>Vendor</th>\n",
       "      <th>Transaction Date</th>\n",
       "      <th>Posted Date</th>\n",
       "      <th>Merchant Category Code (MCC)</th>\n",
       "      <th>cust_card_holder_name</th>\n",
       "    </tr>\n",
       "  </thead>\n",
       "  <tbody>\n",
       "    <tr>\n",
       "      <th>0</th>\n",
       "      <td>201307</td>\n",
       "      <td>1000</td>\n",
       "      <td>OKLAHOMA STATE UNIVERSITY</td>\n",
       "      <td>Mason</td>\n",
       "      <td>C</td>\n",
       "      <td>GENERAL PURCHASE</td>\n",
       "      <td>890.00</td>\n",
       "      <td>NACAS</td>\n",
       "      <td>07/30/2013 12:00:00 AM</td>\n",
       "      <td>07/31/2013 12:00:00 AM</td>\n",
       "      <td>CHARITABLE AND SOCIAL SERVICE ORGANIZATIONS</td>\n",
       "      <td>C-Mason</td>\n",
       "    </tr>\n",
       "    <tr>\n",
       "      <th>1</th>\n",
       "      <td>201307</td>\n",
       "      <td>1000</td>\n",
       "      <td>OKLAHOMA STATE UNIVERSITY</td>\n",
       "      <td>Mason</td>\n",
       "      <td>C</td>\n",
       "      <td>ROOM CHARGES</td>\n",
       "      <td>368.96</td>\n",
       "      <td>SHERATON HOTEL</td>\n",
       "      <td>07/30/2013 12:00:00 AM</td>\n",
       "      <td>07/31/2013 12:00:00 AM</td>\n",
       "      <td>SHERATON</td>\n",
       "      <td>C-Mason</td>\n",
       "    </tr>\n",
       "    <tr>\n",
       "      <th>2</th>\n",
       "      <td>201307</td>\n",
       "      <td>1000</td>\n",
       "      <td>OKLAHOMA STATE UNIVERSITY</td>\n",
       "      <td>Massey</td>\n",
       "      <td>J</td>\n",
       "      <td>GENERAL PURCHASE</td>\n",
       "      <td>165.82</td>\n",
       "      <td>SEARS.COM 9300</td>\n",
       "      <td>07/29/2013 12:00:00 AM</td>\n",
       "      <td>07/31/2013 12:00:00 AM</td>\n",
       "      <td>DIRCT MARKETING/DIRCT MARKETERS--NOT ELSEWHERE...</td>\n",
       "      <td>J-Massey</td>\n",
       "    </tr>\n",
       "    <tr>\n",
       "      <th>3</th>\n",
       "      <td>201307</td>\n",
       "      <td>1000</td>\n",
       "      <td>OKLAHOMA STATE UNIVERSITY</td>\n",
       "      <td>Massey</td>\n",
       "      <td>T</td>\n",
       "      <td>GENERAL PURCHASE</td>\n",
       "      <td>96.39</td>\n",
       "      <td>WAL-MART #0137</td>\n",
       "      <td>07/30/2013 12:00:00 AM</td>\n",
       "      <td>07/31/2013 12:00:00 AM</td>\n",
       "      <td>GROCERY STORES,AND SUPERMARKETS</td>\n",
       "      <td>T-Massey</td>\n",
       "    </tr>\n",
       "    <tr>\n",
       "      <th>4</th>\n",
       "      <td>201307</td>\n",
       "      <td>1000</td>\n",
       "      <td>OKLAHOMA STATE UNIVERSITY</td>\n",
       "      <td>Mauro-Herrera</td>\n",
       "      <td>M</td>\n",
       "      <td>HAMMERMILL COPY PLUS COPY EA</td>\n",
       "      <td>125.96</td>\n",
       "      <td>STAPLES DIRECT</td>\n",
       "      <td>07/30/2013 12:00:00 AM</td>\n",
       "      <td>07/31/2013 12:00:00 AM</td>\n",
       "      <td>STATIONERY, OFFICE SUPPLIES, PRINTING AND WRIT...</td>\n",
       "      <td>M-Mauro-Herrera</td>\n",
       "    </tr>\n",
       "  </tbody>\n",
       "</table>\n",
       "</div>"
      ],
      "text/plain": [
       "   Year-Month  Agency Number                Agency Name Cardholder Last Name  \\\n",
       "0      201307           1000  OKLAHOMA STATE UNIVERSITY                Mason   \n",
       "1      201307           1000  OKLAHOMA STATE UNIVERSITY                Mason   \n",
       "2      201307           1000  OKLAHOMA STATE UNIVERSITY               Massey   \n",
       "3      201307           1000  OKLAHOMA STATE UNIVERSITY               Massey   \n",
       "4      201307           1000  OKLAHOMA STATE UNIVERSITY        Mauro-Herrera   \n",
       "\n",
       "  Cardholder First Initial                   Description  Amount  \\\n",
       "0                        C              GENERAL PURCHASE  890.00   \n",
       "1                        C                  ROOM CHARGES  368.96   \n",
       "2                        J              GENERAL PURCHASE  165.82   \n",
       "3                        T              GENERAL PURCHASE   96.39   \n",
       "4                        M  HAMMERMILL COPY PLUS COPY EA  125.96   \n",
       "\n",
       "           Vendor        Transaction Date             Posted Date  \\\n",
       "0           NACAS  07/30/2013 12:00:00 AM  07/31/2013 12:00:00 AM   \n",
       "1  SHERATON HOTEL  07/30/2013 12:00:00 AM  07/31/2013 12:00:00 AM   \n",
       "2  SEARS.COM 9300  07/29/2013 12:00:00 AM  07/31/2013 12:00:00 AM   \n",
       "3  WAL-MART #0137  07/30/2013 12:00:00 AM  07/31/2013 12:00:00 AM   \n",
       "4  STAPLES DIRECT  07/30/2013 12:00:00 AM  07/31/2013 12:00:00 AM   \n",
       "\n",
       "                        Merchant Category Code (MCC) cust_card_holder_name  \n",
       "0        CHARITABLE AND SOCIAL SERVICE ORGANIZATIONS               C-Mason  \n",
       "1                                           SHERATON               C-Mason  \n",
       "2  DIRCT MARKETING/DIRCT MARKETERS--NOT ELSEWHERE...              J-Massey  \n",
       "3                    GROCERY STORES,AND SUPERMARKETS              T-Massey  \n",
       "4  STATIONERY, OFFICE SUPPLIES, PRINTING AND WRIT...       M-Mauro-Herrera  "
      ]
     },
     "execution_count": 10,
     "metadata": {},
     "output_type": "execute_result"
    }
   ],
   "source": [
    "df_positive_amt[\"cust_card_holder_name\"] = df[\"Cardholder First Initial\"].astype(str).str.cat(df[\"Cardholder Last Name\"].astype(str), sep=\"-\")\n",
    "df_positive_amt.head()"
   ]
  },
  {
   "cell_type": "markdown",
   "id": "5a147c11-3ee0-4216-b187-af241eea93e6",
   "metadata": {},
   "source": [
    "# Model Building"
   ]
  },
  {
   "cell_type": "markdown",
   "id": "b66073fd-7eb2-4bc4-b66e-0e5c0eba955f",
   "metadata": {},
   "source": [
    "## 1. Cluster cardholders based on frequency of credit card usage and spend and number of unique merchants"
   ]
  },
  {
   "cell_type": "markdown",
   "id": "8a09edca-9cb0-415d-94e3-b759e19cfb11",
   "metadata": {},
   "source": [
    "#### Applying Elbow Method to pick optimum number of clusters along with Davies Boldin and Silhouette score."
   ]
  },
  {
   "cell_type": "code",
   "execution_count": 11,
   "id": "cd14dd11-29bb-4c29-8aa1-34390e7e3adc",
   "metadata": {},
   "outputs": [],
   "source": [
    "def get_kmeans_model(k):\n",
    "    return  KMeans(n_clusters=k, random_state=42, init='k-means++', max_iter = 300, n_init = 10)\n",
    "\n",
    "def get_optimum_cluster_num(scaled_features, min_num_clusters=2, max_num_clusters=10):\n",
    "    wcss = []\n",
    "    silhouette = []\n",
    "    davies_bouldin = []\n",
    "    calinski_harabasz = []\n",
    "    \n",
    "    for k in range(min_num_clusters, max_num_clusters+1):\n",
    "        kmeans = get_kmeans_model(k)\n",
    "        kmeans.fit(scaled_features)\n",
    "        wcss.append(kmeans.inertia_)\n",
    "        davies_bouldin.append(davies_bouldin_score(scaled_features, kmeans.labels_))\n",
    "        silhouette.append(silhouette_score(scaled_features, kmeans.labels_))\n",
    "        calinski_harabasz.append(calinski_harabasz_score(scaled_features, kmeans.labels_))\n",
    "    \n",
    "    fig, axs = plt.subplots(4)\n",
    "    fig.suptitle('Scores vs Number of Clusters')\n",
    "    axs[0].plot(range(min_num_clusters, max_num_clusters+1), wcss)\n",
    "    axs[0].set_ylabel('SSE')\n",
    "    axs[1].plot(range(min_num_clusters, max_num_clusters+1), silhouette)\n",
    "    axs[1].set_ylabel('Silhouette')\n",
    "    axs[2].plot(range(min_num_clusters, max_num_clusters+1), davies_bouldin)\n",
    "    axs[2].set_ylabel('Davies Bouldin')\n",
    "    axs[3].plot(range(min_num_clusters, max_num_clusters+1), calinski_harabasz)\n",
    "    axs[3].set_ylabel('Calinski Harabasz')"
   ]
  },
  {
   "cell_type": "code",
   "execution_count": 12,
   "id": "685e406a-a241-4f27-b6e3-105e4be8239a",
   "metadata": {},
   "outputs": [],
   "source": [
    "def get_stats(df, exclude_cols):\n",
    "    for col in df.columns:\n",
    "        if col not in exclude_cols:\n",
    "            print(f'Mean value of {col}',df[col].mean())\n",
    "            print(f'Std value of {col}',df[col].std())\n",
    "            print(f'Min value of {col}',df[col].min())\n",
    "            print(f'Max value of {col}',df[col].max())\n",
    "            print(\"\\n\")"
   ]
  },
  {
   "cell_type": "code",
   "execution_count": 13,
   "id": "d44e521e-7075-4053-8033-3123462c6dc1",
   "metadata": {},
   "outputs": [
    {
     "data": {
      "text/html": [
       "<div>\n",
       "<style scoped>\n",
       "    .dataframe tbody tr th:only-of-type {\n",
       "        vertical-align: middle;\n",
       "    }\n",
       "\n",
       "    .dataframe tbody tr th {\n",
       "        vertical-align: top;\n",
       "    }\n",
       "\n",
       "    .dataframe thead th {\n",
       "        text-align: right;\n",
       "    }\n",
       "</style>\n",
       "<table border=\"1\" class=\"dataframe\">\n",
       "  <thead>\n",
       "    <tr style=\"text-align: right;\">\n",
       "      <th></th>\n",
       "      <th>Transaction Date</th>\n",
       "      <th>Amount</th>\n",
       "      <th>Vendor</th>\n",
       "    </tr>\n",
       "    <tr>\n",
       "      <th>cust_card_holder_name</th>\n",
       "      <th></th>\n",
       "      <th></th>\n",
       "      <th></th>\n",
       "    </tr>\n",
       "  </thead>\n",
       "  <tbody>\n",
       "    <tr>\n",
       "      <th>1-15000</th>\n",
       "      <td>1</td>\n",
       "      <td>4626.46</td>\n",
       "      <td>1</td>\n",
       "    </tr>\n",
       "    <tr>\n",
       "      <th>2-24100</th>\n",
       "      <td>9</td>\n",
       "      <td>2819.38</td>\n",
       "      <td>2</td>\n",
       "    </tr>\n",
       "    <tr>\n",
       "      <th>4-42000</th>\n",
       "      <td>16</td>\n",
       "      <td>2143.97</td>\n",
       "      <td>2</td>\n",
       "    </tr>\n",
       "    <tr>\n",
       "      <th>4-44600</th>\n",
       "      <td>1</td>\n",
       "      <td>111.99</td>\n",
       "      <td>1</td>\n",
       "    </tr>\n",
       "    <tr>\n",
       "      <th>4-48000</th>\n",
       "      <td>11</td>\n",
       "      <td>1514.03</td>\n",
       "      <td>2</td>\n",
       "    </tr>\n",
       "    <tr>\n",
       "      <th>...</th>\n",
       "      <td>...</td>\n",
       "      <td>...</td>\n",
       "      <td>...</td>\n",
       "    </tr>\n",
       "    <tr>\n",
       "      <th>e-Cardholder</th>\n",
       "      <td>1622</td>\n",
       "      <td>17865671.21</td>\n",
       "      <td>269</td>\n",
       "    </tr>\n",
       "    <tr>\n",
       "      <th>m-Gotcher</th>\n",
       "      <td>48</td>\n",
       "      <td>36464.59</td>\n",
       "      <td>30</td>\n",
       "    </tr>\n",
       "    <tr>\n",
       "      <th>n-Rahnavard</th>\n",
       "      <td>1</td>\n",
       "      <td>410.00</td>\n",
       "      <td>1</td>\n",
       "    </tr>\n",
       "    <tr>\n",
       "      <th>s-beck</th>\n",
       "      <td>298</td>\n",
       "      <td>71236.65</td>\n",
       "      <td>141</td>\n",
       "    </tr>\n",
       "    <tr>\n",
       "      <th>s-russell</th>\n",
       "      <td>33</td>\n",
       "      <td>10805.58</td>\n",
       "      <td>24</td>\n",
       "    </tr>\n",
       "  </tbody>\n",
       "</table>\n",
       "<p>5204 rows × 3 columns</p>\n",
       "</div>"
      ],
      "text/plain": [
       "                       Transaction Date       Amount  Vendor\n",
       "cust_card_holder_name                                       \n",
       "1-15000                               1      4626.46       1\n",
       "2-24100                               9      2819.38       2\n",
       "4-42000                              16      2143.97       2\n",
       "4-44600                               1       111.99       1\n",
       "4-48000                              11      1514.03       2\n",
       "...                                 ...          ...     ...\n",
       "e-Cardholder                       1622  17865671.21     269\n",
       "m-Gotcher                            48     36464.59      30\n",
       "n-Rahnavard                           1       410.00       1\n",
       "s-beck                              298     71236.65     141\n",
       "s-russell                            33     10805.58      24\n",
       "\n",
       "[5204 rows x 3 columns]"
      ]
     },
     "execution_count": 13,
     "metadata": {},
     "output_type": "execute_result"
    }
   ],
   "source": [
    "df_features = df_positive_amt.groupby(['cust_card_holder_name']).agg({'Transaction Date':'count', 'Amount': 'sum', 'Vendor': 'nunique'})\n",
    "df_features"
   ]
  },
  {
   "cell_type": "code",
   "execution_count": 14,
   "id": "e73eff01-4dd5-40b4-97f4-23e55b7b5aba",
   "metadata": {},
   "outputs": [],
   "source": [
    "df_features.columns = [\"usage_freq\", \"amount_spend\", \"uniq_merchant\"]"
   ]
  },
  {
   "cell_type": "code",
   "execution_count": 15,
   "id": "30efcaae-1d81-4985-8ed3-9b78f4aca2b7",
   "metadata": {},
   "outputs": [
    {
     "name": "stdout",
     "output_type": "stream",
     "text": [
      "Mean value of usage_freq 82.2303996925442\n",
      "Std value of usage_freq 234.56832687154977\n",
      "Min value of usage_freq 1\n",
      "Max value of usage_freq 9650\n",
      "\n",
      "\n",
      "Mean value of amount_spend 36818.475536126054\n",
      "Std value of amount_spend 279969.46877264255\n",
      "Min value of amount_spend 0.04\n",
      "Max value of amount_spend 17865671.210000012\n",
      "\n",
      "\n",
      "Mean value of uniq_merchant 31.90641813989239\n",
      "Std value of uniq_merchant 163.1335706501877\n",
      "Min value of uniq_merchant 1\n",
      "Max value of uniq_merchant 7727\n",
      "\n",
      "\n"
     ]
    }
   ],
   "source": [
    "get_stats(df_features.copy(), [\"card_holder_name\"])"
   ]
  },
  {
   "cell_type": "markdown",
   "id": "76ca0b31-024d-49ca-9e0c-8f982e438bf6",
   "metadata": {},
   "source": [
    "### Checking for the outliers"
   ]
  },
  {
   "cell_type": "code",
   "execution_count": 16,
   "id": "ddcf9b08-3923-44dc-8a7e-1fafab38f0bd",
   "metadata": {},
   "outputs": [
    {
     "data": {
      "text/plain": [
       "array([[-0.34633067, -0.11499507, -0.18947288],\n",
       "       [-0.31222219, -0.12145025, -0.18334235],\n",
       "       [-0.28237727, -0.12386293, -0.18334235],\n",
       "       ...,\n",
       "       [-0.34633067, -0.13005695, -0.18947288],\n",
       "       [ 0.9199466 ,  0.12294727,  0.66880204],\n",
       "       [-0.20989675, -0.09292226, -0.04847057]])"
      ]
     },
     "execution_count": 16,
     "metadata": {},
     "output_type": "execute_result"
    }
   ],
   "source": [
    "scaler = StandardScaler()\n",
    "scaled_features = scaler.fit_transform(df_features)\n",
    "scaled_features"
   ]
  },
  {
   "cell_type": "code",
   "execution_count": 17,
   "id": "fa3733b3-7215-4799-be47-104aac4aa7a3",
   "metadata": {},
   "outputs": [
    {
     "name": "stdout",
     "output_type": "stream",
     "text": [
      "Q1:-0.34310534482087646\n",
      "Q3: 0.006671617124454483\n",
      "IQR: 0.5246654429179964\n",
      "Lower Outlier Threshold: -0.867770787738873\n",
      "Upper Outlier Threshold: 0.531337060042451\n",
      "Min: -0.40189824742798125\n",
      "Max: 61.377412635990815\n",
      "Std: 1.435180829661315\n"
     ]
    },
    {
     "name": "stderr",
     "output_type": "stream",
     "text": [
      "C:\\Users\\sohai\\miniconda3\\envs\\one_by_zero_submission_2\\lib\\site-packages\\seaborn\\_decorators.py:43: FutureWarning: Pass the following variable as a keyword arg: x. From version 0.12, the only valid positional argument will be `data`, and passing other arguments without an explicit keyword will result in an error or misinterpretation.\n",
      "  FutureWarning\n"
     ]
    },
    {
     "data": {
      "text/plain": [
       "<AxesSubplot:>"
      ]
     },
     "execution_count": 17,
     "metadata": {},
     "output_type": "execute_result"
    },
    {
     "data": {
      "image/png": "[encoded data removed]",
      "text/plain": [
       "<Figure size 432x288 with 1 Axes>"
      ]
     },
     "metadata": {
      "needs_background": "light"
     },
     "output_type": "display_data"
    }
   ],
   "source": [
    "_features_pca_1d = PCA(1).fit_transform(scaled_features)\n",
    "\n",
    "\n",
    "q75, q25 = np.percentile(_features_pca_1d, [75,25])\n",
    "iqr = 1.5*(q75-q25)\n",
    "\n",
    "print(f\"Q1:{q25}\\nQ3: {q75}\\nIQR: {iqr}\")\n",
    "print(f\"Lower Outlier Threshold: {q25-iqr}\")\n",
    "print(f\"Upper Outlier Threshold: {q75+iqr}\")\n",
    "print(f\"Min: {np.min(_features_pca_1d)}\\nMax: {np.max(_features_pca_1d)}\")\n",
    "print(f\"Std: {np.std(_features_pca_1d)}\")\n",
    "sns.boxplot(\n",
    "    _features_pca_1d\n",
    ")"
   ]
  },
  {
   "cell_type": "code",
   "execution_count": 18,
   "id": "b2b6deb8-b258-43d5-8e89-ddaaa71c6820",
   "metadata": {},
   "outputs": [
    {
     "data": {
      "text/plain": [
       "<matplotlib.collections.PathCollection at 0x1b68c2bd4a8>"
      ]
     },
     "execution_count": 18,
     "metadata": {},
     "output_type": "execute_result"
    },
    {
     "data": {
      "image/png": "[encoded data removed]",
      "text/plain": [
       "<Figure size 432x288 with 1 Axes>"
      ]
     },
     "metadata": {
      "needs_background": "light"
     },
     "output_type": "display_data"
    }
   ],
   "source": [
    "_features_pca_2d = PCA(2).fit_transform(scaled_features)\n",
    "\n",
    "plt.scatter(_features_pca_2d[:,0], _features_pca_2d[:,1])"
   ]
  },
  {
   "cell_type": "markdown",
   "id": "9738c648-7598-4d15-bcd5-9b3dbc035df9",
   "metadata": {},
   "source": [
    "### Applying Thresholding for upper limit"
   ]
  },
  {
   "cell_type": "code",
   "execution_count": 19,
   "id": "cec91e89-26fa-41f3-8836-de336f553811",
   "metadata": {},
   "outputs": [
    {
     "name": "stdout",
     "output_type": "stream",
     "text": [
      "(4745, 1)\n",
      "Q1:-0.34310534482087646\n",
      "Q3: 0.006671617124454483\n",
      "IQR: 0.5246654429179964\n",
      "Lower Outlier Threshold: -0.867770787738873\n",
      "Upper Outlier Threshold: 0.531337060042451\n",
      "Min: -0.40189824742798125\n",
      "Max: 0.5301465330054518\n",
      "Std: 0.21439406259094512\n"
     ]
    },
    {
     "name": "stderr",
     "output_type": "stream",
     "text": [
      "C:\\Users\\sohai\\miniconda3\\envs\\one_by_zero_submission_2\\lib\\site-packages\\seaborn\\_decorators.py:43: FutureWarning: Pass the following variable as a keyword arg: x. From version 0.12, the only valid positional argument will be `data`, and passing other arguments without an explicit keyword will result in an error or misinterpretation.\n",
      "  FutureWarning\n"
     ]
    },
    {
     "data": {
      "text/plain": [
       "<AxesSubplot:>"
      ]
     },
     "execution_count": 19,
     "metadata": {},
     "output_type": "execute_result"
    },
    {
     "data": {
      "image/png": "[encoded data removed]",
      "text/plain": [
       "<Figure size 432x288 with 1 Axes>"
      ]
     },
     "metadata": {
      "needs_background": "light"
     },
     "output_type": "display_data"
    }
   ],
   "source": [
    "_features_pca_1d_thrshld = _features_pca_1d[(_features_pca_1d < (q75+iqr))[:,0]]\n",
    "print(_features_pca_1d_thrshld.shape)\n",
    "print(f\"Q1:{q25}\\nQ3: {q75}\\nIQR: {iqr}\")\n",
    "print(f\"Lower Outlier Threshold: {q25-iqr}\")\n",
    "print(f\"Upper Outlier Threshold: {q75+iqr}\")\n",
    "print(f\"Min: {np.min(_features_pca_1d_thrshld)}\\nMax: {np.max(_features_pca_1d_thrshld)}\")\n",
    "print(f\"Std: {np.std(_features_pca_1d_thrshld)}\")\n",
    "sns.boxplot(\n",
    "    _features_pca_1d_thrshld\n",
    ")"
   ]
  },
  {
   "cell_type": "markdown",
   "id": "fdd0bafb-693e-4c91-96f9-dfc196fdd02b",
   "metadata": {},
   "source": [
    "### Plotting Scatterplot to confirm the above finding"
   ]
  },
  {
   "cell_type": "code",
   "execution_count": 20,
   "id": "7ca8d8c7-9d99-4f54-ae37-470117cf27db",
   "metadata": {},
   "outputs": [
    {
     "data": {
      "text/plain": [
       "<matplotlib.collections.PathCollection at 0x1b68b843550>"
      ]
     },
     "execution_count": 20,
     "metadata": {},
     "output_type": "execute_result"
    },
    {
     "data": {
      "image/png": "[encoded data removed]",
      "text/plain": [
       "<Figure size 432x288 with 1 Axes>"
      ]
     },
     "metadata": {
      "needs_background": "light"
     },
     "output_type": "display_data"
    }
   ],
   "source": [
    "_features_pca_2d = PCA(2).fit_transform(scaled_features[(_features_pca_1d < (q75+iqr))[:,0]])\n",
    "\n",
    "plt.scatter(_features_pca_2d[:,0], _features_pca_2d[:,1])"
   ]
  },
  {
   "cell_type": "markdown",
   "id": "d1ab89db-9f04-4298-bed3-cea3e79c14df",
   "metadata": {},
   "source": [
    "### Removing Outliers from the feature Datset and ploting the metrics graph to identify optimum number of clusters"
   ]
  },
  {
   "cell_type": "code",
   "execution_count": 21,
   "id": "92071869-5c19-4c76-ade3-7e5e6fe734d5",
   "metadata": {},
   "outputs": [
    {
     "data": {
      "image/png": "[encoded data removed]",
      "text/plain": [
       "<Figure size 432x288 with 4 Axes>"
      ]
     },
     "metadata": {
      "needs_background": "light"
     },
     "output_type": "display_data"
    }
   ],
   "source": [
    "df_features_new = df_features[(_features_pca_1d < (q75+iqr))[:,0]]\n",
    "new_scaled_features = scaled_features[(_features_pca_1d < (q75+iqr))[:,0]]\n",
    "get_optimum_cluster_num(new_scaled_features, max_num_clusters=40)"
   ]
  },
  {
   "cell_type": "code",
   "execution_count": 22,
   "id": "e524aaa7-cff1-42ac-be28-d94a079fc508",
   "metadata": {},
   "outputs": [],
   "source": [
    "# # Trying Now\n",
    "# df_features_new = df_features[(_features_pca_1d < (q75+iqr))[:,0]]\n",
    "# scaler_model = StandardScaler().fit(df_features_new)\n",
    "# new_scaled_features = scaler_model.transform(df_features_new)\n",
    "# get_optimum_cluster_num(new_scaled_features, max_num_clusters=11)"
   ]
  },
  {
   "cell_type": "markdown",
   "id": "e7b5a216-a940-4243-a7a3-3ed8e47ad790",
   "metadata": {},
   "source": [
    "From the above graph plots, 5 is optimum number of clusters than we can consider for our cluster model"
   ]
  },
  {
   "cell_type": "code",
   "execution_count": 23,
   "id": "f6c34c2a-53be-4293-9276-4c34e9df8aa4",
   "metadata": {},
   "outputs": [],
   "source": [
    "kmeans = get_kmeans_model(5)\n",
    "kmeans.fit(new_scaled_features)\n",
    "cluster_labels = kmeans.predict(new_scaled_features)"
   ]
  },
  {
   "cell_type": "code",
   "execution_count": 24,
   "id": "dea3cf5d-f537-4a11-86f9-fc9a58790d4a",
   "metadata": {},
   "outputs": [
    {
     "data": {
      "text/plain": [
       "array([0, 1, 2, 3, 4])"
      ]
     },
     "execution_count": 24,
     "metadata": {},
     "output_type": "execute_result"
    }
   ],
   "source": [
    "np.unique(cluster_labels)"
   ]
  },
  {
   "cell_type": "code",
   "execution_count": 25,
   "id": "56d5ed28-5e11-4b8f-bb6b-99a13b4e6cc2",
   "metadata": {},
   "outputs": [
    {
     "data": {
      "text/plain": [
       "(4745, 3)"
      ]
     },
     "execution_count": 25,
     "metadata": {},
     "output_type": "execute_result"
    }
   ],
   "source": [
    "df_features_new.shape"
   ]
  },
  {
   "cell_type": "code",
   "execution_count": 26,
   "id": "45409d1d-a9f8-4fac-a3b5-9902a38c9d53",
   "metadata": {},
   "outputs": [
    {
     "name": "stderr",
     "output_type": "stream",
     "text": [
      "C:\\Users\\sohai\\miniconda3\\envs\\one_by_zero_submission_2\\lib\\site-packages\\ipykernel_launcher.py:2: SettingWithCopyWarning: \n",
      "A value is trying to be set on a copy of a slice from a DataFrame.\n",
      "Try using .loc[row_indexer,col_indexer] = value instead\n",
      "\n",
      "See the caveats in the documentation: https://pandas.pydata.org/pandas-docs/stable/user_guide/indexing.html#returning-a-view-versus-a-copy\n",
      "  \n"
     ]
    },
    {
     "data": {
      "text/html": [
       "<div>\n",
       "<style scoped>\n",
       "    .dataframe tbody tr th:only-of-type {\n",
       "        vertical-align: middle;\n",
       "    }\n",
       "\n",
       "    .dataframe tbody tr th {\n",
       "        vertical-align: top;\n",
       "    }\n",
       "\n",
       "    .dataframe thead th {\n",
       "        text-align: right;\n",
       "    }\n",
       "</style>\n",
       "<table border=\"1\" class=\"dataframe\">\n",
       "  <thead>\n",
       "    <tr style=\"text-align: right;\">\n",
       "      <th></th>\n",
       "      <th>usage_freq</th>\n",
       "      <th>amount_spend</th>\n",
       "      <th>uniq_merchant</th>\n",
       "      <th>cluster_id</th>\n",
       "    </tr>\n",
       "    <tr>\n",
       "      <th>cust_card_holder_name</th>\n",
       "      <th></th>\n",
       "      <th></th>\n",
       "      <th></th>\n",
       "      <th></th>\n",
       "    </tr>\n",
       "  </thead>\n",
       "  <tbody>\n",
       "    <tr>\n",
       "      <th>1-15000</th>\n",
       "      <td>1</td>\n",
       "      <td>4626.46</td>\n",
       "      <td>1</td>\n",
       "      <td>1</td>\n",
       "    </tr>\n",
       "    <tr>\n",
       "      <th>2-24100</th>\n",
       "      <td>9</td>\n",
       "      <td>2819.38</td>\n",
       "      <td>2</td>\n",
       "      <td>1</td>\n",
       "    </tr>\n",
       "    <tr>\n",
       "      <th>4-42000</th>\n",
       "      <td>16</td>\n",
       "      <td>2143.97</td>\n",
       "      <td>2</td>\n",
       "      <td>1</td>\n",
       "    </tr>\n",
       "    <tr>\n",
       "      <th>4-44600</th>\n",
       "      <td>1</td>\n",
       "      <td>111.99</td>\n",
       "      <td>1</td>\n",
       "      <td>1</td>\n",
       "    </tr>\n",
       "    <tr>\n",
       "      <th>4-48000</th>\n",
       "      <td>11</td>\n",
       "      <td>1514.03</td>\n",
       "      <td>2</td>\n",
       "      <td>1</td>\n",
       "    </tr>\n",
       "    <tr>\n",
       "      <th>...</th>\n",
       "      <td>...</td>\n",
       "      <td>...</td>\n",
       "      <td>...</td>\n",
       "      <td>...</td>\n",
       "    </tr>\n",
       "    <tr>\n",
       "      <th>Z-ZHAO</th>\n",
       "      <td>20</td>\n",
       "      <td>6305.86</td>\n",
       "      <td>12</td>\n",
       "      <td>1</td>\n",
       "    </tr>\n",
       "    <tr>\n",
       "      <th>Z-Zebarauskaite</th>\n",
       "      <td>16</td>\n",
       "      <td>6001.09</td>\n",
       "      <td>10</td>\n",
       "      <td>1</td>\n",
       "    </tr>\n",
       "    <tr>\n",
       "      <th>m-Gotcher</th>\n",
       "      <td>48</td>\n",
       "      <td>36464.59</td>\n",
       "      <td>30</td>\n",
       "      <td>4</td>\n",
       "    </tr>\n",
       "    <tr>\n",
       "      <th>n-Rahnavard</th>\n",
       "      <td>1</td>\n",
       "      <td>410.00</td>\n",
       "      <td>1</td>\n",
       "      <td>1</td>\n",
       "    </tr>\n",
       "    <tr>\n",
       "      <th>s-russell</th>\n",
       "      <td>33</td>\n",
       "      <td>10805.58</td>\n",
       "      <td>24</td>\n",
       "      <td>4</td>\n",
       "    </tr>\n",
       "  </tbody>\n",
       "</table>\n",
       "<p>4745 rows × 4 columns</p>\n",
       "</div>"
      ],
      "text/plain": [
       "                       usage_freq  amount_spend  uniq_merchant  cluster_id\n",
       "cust_card_holder_name                                                     \n",
       "1-15000                         1       4626.46              1           1\n",
       "2-24100                         9       2819.38              2           1\n",
       "4-42000                        16       2143.97              2           1\n",
       "4-44600                         1        111.99              1           1\n",
       "4-48000                        11       1514.03              2           1\n",
       "...                           ...           ...            ...         ...\n",
       "Z-ZHAO                         20       6305.86             12           1\n",
       "Z-Zebarauskaite                16       6001.09             10           1\n",
       "m-Gotcher                      48      36464.59             30           4\n",
       "n-Rahnavard                     1        410.00              1           1\n",
       "s-russell                      33      10805.58             24           4\n",
       "\n",
       "[4745 rows x 4 columns]"
      ]
     },
     "execution_count": 26,
     "metadata": {},
     "output_type": "execute_result"
    }
   ],
   "source": [
    "# df_features_thrshld = df_features_new[(_features_pca_1d < (q75+iqr))[:,0]]\n",
    "df_features_new[\"cluster_id\"] = cluster_labels\n",
    "df_features_new"
   ]
  },
  {
   "cell_type": "code",
   "execution_count": 27,
   "id": "f05ac33c-c8ca-4858-9015-55ba317eabe1",
   "metadata": {},
   "outputs": [
    {
     "data": {
      "image/png": "[encoded data removed]",
      "text/plain": [
       "<Figure size 432x288 with 1 Axes>"
      ]
     },
     "metadata": {
      "needs_background": "light"
     },
     "output_type": "display_data"
    }
   ],
   "source": [
    "fig = plt.figure()\n",
    "ax = fig.add_subplot(111, projection='3d')\n",
    "x = np.array(df_features_new['usage_freq'])\n",
    "y = np.array(df_features_new['amount_spend'])\n",
    "z = np.array(df_features_new['uniq_merchant'])\n",
    "\n",
    "ax.scatter(x,y,z, marker=\"H\", c=df_features_new[\"cluster_id\"], s=50, cmap=\"viridis_r\")\n",
    "plt.title(\"Cluster Based on Frequent Usage, Spenditure and Unique number of Merchants\")\n",
    "plt.show()"
   ]
  },
  {
   "cell_type": "markdown",
   "id": "083fdc0e-d01f-41b8-ae8a-ce929688cb41",
   "metadata": {},
   "source": [
    "## Saving Model"
   ]
  },
  {
   "cell_type": "code",
   "execution_count": 30,
   "id": "02399e59-4b42-46bf-b704-4516dd15c1d7",
   "metadata": {},
   "outputs": [],
   "source": [
    "import joblib\n",
    "\n",
    "joblib.dump(kmeans, \"../models/kmeans_model.pkl\")\n",
    "_ = joblib.load(\"../models/kmeans_model.pkl\")\n",
    "\n",
    "joblib.dump(scaler, \"../models/std_scaler_model.pkl\") \n",
    "_ = joblib.load(\"../models/std_scaler_model.pkl\")\n"
   ]
  },
  {
   "cell_type": "code",
   "execution_count": null,
   "id": "e3017d45-61da-4cfc-bf14-ce4ba6a5ad51",
   "metadata": {},
   "outputs": [],
   "source": []
  }
 ],
 "metadata": {
  "kernelspec": {
   "display_name": "Python 3",
   "language": "python",
   "name": "python3"
  },
  "language_info": {
   "codemirror_mode": {
    "name": "ipython",
    "version": 3
   },
   "file_extension": ".py",
   "mimetype": "text/x-python",
   "name": "python",
   "nbconvert_exporter": "python",
   "pygments_lexer": "ipython3",
   "version": "3.6.13"
  }
 },
 "nbformat": 4,
 "nbformat_minor": 5
}
