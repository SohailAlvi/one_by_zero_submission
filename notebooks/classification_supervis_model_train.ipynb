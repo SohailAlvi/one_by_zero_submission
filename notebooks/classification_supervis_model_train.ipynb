{
 "cells": [
  {
   "cell_type": "code",
   "execution_count": 1,
   "id": "20731c01-08c9-4db6-9132-0b6f2fabadaf",
   "metadata": {},
   "outputs": [],
   "source": [
    "import pandas as pd\n",
    "import joblib\n",
    "from xgboost import XGBClassifier\n",
    "from collections import Counter\n",
    "from sklearn.model_selection import train_test_split\n",
    "from sklearn.metrics import classification_report, roc_auc_score\n",
    "import matplotlib.pyplot as plt"
   ]
  },
  {
   "cell_type": "code",
   "execution_count": 2,
   "id": "a20b63ab-2549-4e17-be5b-7c56f81ff649",
   "metadata": {
    "scrolled": true
   },
   "outputs": [
    {
     "data": {
      "text/html": [
       "<div>\n",
       "<style scoped>\n",
       "    .dataframe tbody tr th:only-of-type {\n",
       "        vertical-align: middle;\n",
       "    }\n",
       "\n",
       "    .dataframe tbody tr th {\n",
       "        vertical-align: top;\n",
       "    }\n",
       "\n",
       "    .dataframe thead th {\n",
       "        text-align: right;\n",
       "    }\n",
       "</style>\n",
       "<table border=\"1\" class=\"dataframe\">\n",
       "  <thead>\n",
       "    <tr style=\"text-align: right;\">\n",
       "      <th></th>\n",
       "      <th>Year-Month</th>\n",
       "      <th>Agency Number</th>\n",
       "      <th>Agency Name</th>\n",
       "      <th>Cardholder Last Name</th>\n",
       "      <th>Cardholder First Initial</th>\n",
       "      <th>Description</th>\n",
       "      <th>Amount</th>\n",
       "      <th>Vendor</th>\n",
       "      <th>Transaction Date</th>\n",
       "      <th>Posted Date</th>\n",
       "      <th>Merchant Category Code (MCC)</th>\n",
       "    </tr>\n",
       "  </thead>\n",
       "  <tbody>\n",
       "    <tr>\n",
       "      <th>0</th>\n",
       "      <td>201307</td>\n",
       "      <td>1000</td>\n",
       "      <td>OKLAHOMA STATE UNIVERSITY</td>\n",
       "      <td>Mason</td>\n",
       "      <td>C</td>\n",
       "      <td>GENERAL PURCHASE</td>\n",
       "      <td>890.00</td>\n",
       "      <td>NACAS</td>\n",
       "      <td>07/30/2013 12:00:00 AM</td>\n",
       "      <td>07/31/2013 12:00:00 AM</td>\n",
       "      <td>CHARITABLE AND SOCIAL SERVICE ORGANIZATIONS</td>\n",
       "    </tr>\n",
       "    <tr>\n",
       "      <th>1</th>\n",
       "      <td>201307</td>\n",
       "      <td>1000</td>\n",
       "      <td>OKLAHOMA STATE UNIVERSITY</td>\n",
       "      <td>Mason</td>\n",
       "      <td>C</td>\n",
       "      <td>ROOM CHARGES</td>\n",
       "      <td>368.96</td>\n",
       "      <td>SHERATON HOTEL</td>\n",
       "      <td>07/30/2013 12:00:00 AM</td>\n",
       "      <td>07/31/2013 12:00:00 AM</td>\n",
       "      <td>SHERATON</td>\n",
       "    </tr>\n",
       "    <tr>\n",
       "      <th>2</th>\n",
       "      <td>201307</td>\n",
       "      <td>1000</td>\n",
       "      <td>OKLAHOMA STATE UNIVERSITY</td>\n",
       "      <td>Massey</td>\n",
       "      <td>J</td>\n",
       "      <td>GENERAL PURCHASE</td>\n",
       "      <td>165.82</td>\n",
       "      <td>SEARS.COM 9300</td>\n",
       "      <td>07/29/2013 12:00:00 AM</td>\n",
       "      <td>07/31/2013 12:00:00 AM</td>\n",
       "      <td>DIRCT MARKETING/DIRCT MARKETERS--NOT ELSEWHERE...</td>\n",
       "    </tr>\n",
       "    <tr>\n",
       "      <th>3</th>\n",
       "      <td>201307</td>\n",
       "      <td>1000</td>\n",
       "      <td>OKLAHOMA STATE UNIVERSITY</td>\n",
       "      <td>Massey</td>\n",
       "      <td>T</td>\n",
       "      <td>GENERAL PURCHASE</td>\n",
       "      <td>96.39</td>\n",
       "      <td>WAL-MART #0137</td>\n",
       "      <td>07/30/2013 12:00:00 AM</td>\n",
       "      <td>07/31/2013 12:00:00 AM</td>\n",
       "      <td>GROCERY STORES,AND SUPERMARKETS</td>\n",
       "    </tr>\n",
       "    <tr>\n",
       "      <th>4</th>\n",
       "      <td>201307</td>\n",
       "      <td>1000</td>\n",
       "      <td>OKLAHOMA STATE UNIVERSITY</td>\n",
       "      <td>Mauro-Herrera</td>\n",
       "      <td>M</td>\n",
       "      <td>HAMMERMILL COPY PLUS COPY EA</td>\n",
       "      <td>125.96</td>\n",
       "      <td>STAPLES DIRECT</td>\n",
       "      <td>07/30/2013 12:00:00 AM</td>\n",
       "      <td>07/31/2013 12:00:00 AM</td>\n",
       "      <td>STATIONERY, OFFICE SUPPLIES, PRINTING AND WRIT...</td>\n",
       "    </tr>\n",
       "  </tbody>\n",
       "</table>\n",
       "</div>"
      ],
      "text/plain": [
       "   Year-Month  Agency Number                Agency Name Cardholder Last Name  \\\n",
       "0      201307           1000  OKLAHOMA STATE UNIVERSITY                Mason   \n",
       "1      201307           1000  OKLAHOMA STATE UNIVERSITY                Mason   \n",
       "2      201307           1000  OKLAHOMA STATE UNIVERSITY               Massey   \n",
       "3      201307           1000  OKLAHOMA STATE UNIVERSITY               Massey   \n",
       "4      201307           1000  OKLAHOMA STATE UNIVERSITY        Mauro-Herrera   \n",
       "\n",
       "  Cardholder First Initial                   Description  Amount  \\\n",
       "0                        C              GENERAL PURCHASE  890.00   \n",
       "1                        C                  ROOM CHARGES  368.96   \n",
       "2                        J              GENERAL PURCHASE  165.82   \n",
       "3                        T              GENERAL PURCHASE   96.39   \n",
       "4                        M  HAMMERMILL COPY PLUS COPY EA  125.96   \n",
       "\n",
       "           Vendor        Transaction Date             Posted Date  \\\n",
       "0           NACAS  07/30/2013 12:00:00 AM  07/31/2013 12:00:00 AM   \n",
       "1  SHERATON HOTEL  07/30/2013 12:00:00 AM  07/31/2013 12:00:00 AM   \n",
       "2  SEARS.COM 9300  07/29/2013 12:00:00 AM  07/31/2013 12:00:00 AM   \n",
       "3  WAL-MART #0137  07/30/2013 12:00:00 AM  07/31/2013 12:00:00 AM   \n",
       "4  STAPLES DIRECT  07/30/2013 12:00:00 AM  07/31/2013 12:00:00 AM   \n",
       "\n",
       "                        Merchant Category Code (MCC)  \n",
       "0        CHARITABLE AND SOCIAL SERVICE ORGANIZATIONS  \n",
       "1                                           SHERATON  \n",
       "2  DIRCT MARKETING/DIRCT MARKETERS--NOT ELSEWHERE...  \n",
       "3                    GROCERY STORES,AND SUPERMARKETS  \n",
       "4  STATIONERY, OFFICE SUPPLIES, PRINTING AND WRIT...  "
      ]
     },
     "execution_count": 2,
     "metadata": {},
     "output_type": "execute_result"
    }
   ],
   "source": [
    "data = pd.read_csv('../data/res_purchase_card_fiscal_year_2014_3pcd-aiuu.csv')\n",
    "data.head(5)"
   ]
  },
  {
   "cell_type": "markdown",
   "id": "f03b27b3-0796-447e-824d-06d26bb7e42f",
   "metadata": {},
   "source": [
    "### Feature Extraction\n",
    "\n",
    "With the given data, the following features can be extracted:\n",
    "1) Weekday on which the transaction took place\n",
    "\n",
    "2) Month in which this transaction took place\n",
    "\n",
    "3) Time interval(K) in between transactions for each cardholder\n",
    "\n",
    "4) There are some transactions where the transaction consist of negative amount that we came across in EDA , this indicates a refund. These can be used as our labels."
   ]
  },
  {
   "cell_type": "code",
   "execution_count": 3,
   "id": "fe2f2e42-ea4f-454d-b0ab-f6e3c4f36a0f",
   "metadata": {},
   "outputs": [
    {
     "data": {
      "text/html": [
       "<div>\n",
       "<style scoped>\n",
       "    .dataframe tbody tr th:only-of-type {\n",
       "        vertical-align: middle;\n",
       "    }\n",
       "\n",
       "    .dataframe tbody tr th {\n",
       "        vertical-align: top;\n",
       "    }\n",
       "\n",
       "    .dataframe thead th {\n",
       "        text-align: right;\n",
       "    }\n",
       "</style>\n",
       "<table border=\"1\" class=\"dataframe\">\n",
       "  <thead>\n",
       "    <tr style=\"text-align: right;\">\n",
       "      <th></th>\n",
       "      <th>name</th>\n",
       "      <th>transaction_date</th>\n",
       "      <th>amount_spend</th>\n",
       "      <th>k_interval</th>\n",
       "      <th>y_label</th>\n",
       "      <th>encd_name</th>\n",
       "    </tr>\n",
       "  </thead>\n",
       "  <tbody>\n",
       "    <tr>\n",
       "      <th>0</th>\n",
       "      <td>C_Mason</td>\n",
       "      <td>2013-07-30</td>\n",
       "      <td>890.00</td>\n",
       "      <td>3.0</td>\n",
       "      <td>1</td>\n",
       "      <td>815</td>\n",
       "    </tr>\n",
       "    <tr>\n",
       "      <th>1</th>\n",
       "      <td>C_Mason</td>\n",
       "      <td>2013-07-30</td>\n",
       "      <td>368.96</td>\n",
       "      <td>0.0</td>\n",
       "      <td>1</td>\n",
       "      <td>815</td>\n",
       "    </tr>\n",
       "    <tr>\n",
       "      <th>2</th>\n",
       "      <td>J_Massey</td>\n",
       "      <td>2013-07-29</td>\n",
       "      <td>165.82</td>\n",
       "      <td>4.0</td>\n",
       "      <td>1</td>\n",
       "      <td>2192</td>\n",
       "    </tr>\n",
       "    <tr>\n",
       "      <th>3</th>\n",
       "      <td>T_Massey</td>\n",
       "      <td>2013-07-30</td>\n",
       "      <td>96.39</td>\n",
       "      <td>6.0</td>\n",
       "      <td>1</td>\n",
       "      <td>4722</td>\n",
       "    </tr>\n",
       "    <tr>\n",
       "      <th>4</th>\n",
       "      <td>M_Mauro-Herrera</td>\n",
       "      <td>2013-07-30</td>\n",
       "      <td>125.96</td>\n",
       "      <td>1.0</td>\n",
       "      <td>1</td>\n",
       "      <td>3335</td>\n",
       "    </tr>\n",
       "    <tr>\n",
       "      <th>...</th>\n",
       "      <td>...</td>\n",
       "      <td>...</td>\n",
       "      <td>...</td>\n",
       "      <td>...</td>\n",
       "      <td>...</td>\n",
       "      <td>...</td>\n",
       "    </tr>\n",
       "    <tr>\n",
       "      <th>442453</th>\n",
       "      <td>e_Cardholder</td>\n",
       "      <td>2014-06-20</td>\n",
       "      <td>992.00</td>\n",
       "      <td>0.0</td>\n",
       "      <td>1</td>\n",
       "      <td>5032</td>\n",
       "    </tr>\n",
       "    <tr>\n",
       "      <th>442454</th>\n",
       "      <td>e_Cardholder</td>\n",
       "      <td>2014-06-20</td>\n",
       "      <td>2415.00</td>\n",
       "      <td>0.0</td>\n",
       "      <td>1</td>\n",
       "      <td>5032</td>\n",
       "    </tr>\n",
       "    <tr>\n",
       "      <th>442455</th>\n",
       "      <td>e_Cardholder</td>\n",
       "      <td>2014-06-20</td>\n",
       "      <td>177.50</td>\n",
       "      <td>0.0</td>\n",
       "      <td>1</td>\n",
       "      <td>5032</td>\n",
       "    </tr>\n",
       "    <tr>\n",
       "      <th>442456</th>\n",
       "      <td>e_Cardholder</td>\n",
       "      <td>2014-06-19</td>\n",
       "      <td>32457.00</td>\n",
       "      <td>0.0</td>\n",
       "      <td>1</td>\n",
       "      <td>5032</td>\n",
       "    </tr>\n",
       "    <tr>\n",
       "      <th>442457</th>\n",
       "      <td>e_Cardholder</td>\n",
       "      <td>2014-06-20</td>\n",
       "      <td>4714.07</td>\n",
       "      <td>0.0</td>\n",
       "      <td>1</td>\n",
       "      <td>5032</td>\n",
       "    </tr>\n",
       "  </tbody>\n",
       "</table>\n",
       "<p>437245 rows × 6 columns</p>\n",
       "</div>"
      ],
      "text/plain": [
       "                   name transaction_date  amount_spend  k_interval  y_label  \\\n",
       "0               C_Mason       2013-07-30        890.00         3.0        1   \n",
       "1               C_Mason       2013-07-30        368.96         0.0        1   \n",
       "2              J_Massey       2013-07-29        165.82         4.0        1   \n",
       "3              T_Massey       2013-07-30         96.39         6.0        1   \n",
       "4       M_Mauro-Herrera       2013-07-30        125.96         1.0        1   \n",
       "...                 ...              ...           ...         ...      ...   \n",
       "442453     e_Cardholder       2014-06-20        992.00         0.0        1   \n",
       "442454     e_Cardholder       2014-06-20       2415.00         0.0        1   \n",
       "442455     e_Cardholder       2014-06-20        177.50         0.0        1   \n",
       "442456     e_Cardholder       2014-06-19      32457.00         0.0        1   \n",
       "442457     e_Cardholder       2014-06-20       4714.07         0.0        1   \n",
       "\n",
       "        encd_name  \n",
       "0             815  \n",
       "1             815  \n",
       "2            2192  \n",
       "3            4722  \n",
       "4            3335  \n",
       "...           ...  \n",
       "442453       5032  \n",
       "442454       5032  \n",
       "442455       5032  \n",
       "442456       5032  \n",
       "442457       5032  \n",
       "\n",
       "[437245 rows x 6 columns]"
      ]
     },
     "execution_count": 3,
     "metadata": {},
     "output_type": "execute_result"
    }
   ],
   "source": [
    "df = data.copy()\n",
    "\n",
    "\n",
    "df[\"name\"] = df[\"Cardholder First Initial\"].astype(str).str.cat(df[\"Cardholder Last Name\"].astype(str), sep=\"_\")\n",
    "df = df[[\"name\", \"Transaction Date\", \"Amount\"]]\n",
    "df.columns = [\"name\", \"transaction_date\", \"amount_spend\"]\n",
    "df[\"transaction_date\"] = pd.to_datetime(df[\"transaction_date\"])\n",
    "df[\"k_interval\"] = df.sort_values([\"name\", \"transaction_date\"]).groupby(\"name\")[\"transaction_date\"].diff().dt.days\n",
    "df.dropna(subset=[\"k_interval\"], inplace=True)\n",
    "\n",
    "df[\"y_label\"] = df[\"amount_spend\"].map(lambda x: 1 if x >0 else 0)\n",
    "\n",
    "\n",
    "name_cat_code_map = dict( zip( df['name'], df['name'].astype('category').cat.codes ) )\n",
    "\n",
    "\n",
    "\n",
    "df[\"encd_name\"] = df.name.map(lambda x: name_cat_code_map.get(x))\n",
    "df"
   ]
  },
  {
   "cell_type": "code",
   "execution_count": 4,
   "id": "b6d3c557",
   "metadata": {},
   "outputs": [
    {
     "data": {
      "text/plain": [
       "Index(['name', 'transaction_date', 'amount_spend', 'k_interval', 'y_label',\n",
       "       'encd_name'],\n",
       "      dtype='object')"
      ]
     },
     "execution_count": 4,
     "metadata": {},
     "output_type": "execute_result"
    }
   ],
   "source": [
    "df.columns"
   ]
  },
  {
   "cell_type": "code",
   "execution_count": 5,
   "id": "269a5889",
   "metadata": {},
   "outputs": [
    {
     "name": "stderr",
     "output_type": "stream",
     "text": [
      "C:\\Users\\sohai\\miniconda3\\envs\\one_by_zero_submission_2\\lib\\site-packages\\ipykernel_launcher.py:3: SettingWithCopyWarning: \n",
      "A value is trying to be set on a copy of a slice from a DataFrame.\n",
      "Try using .loc[row_indexer,col_indexer] = value instead\n",
      "\n",
      "See the caveats in the documentation: https://pandas.pydata.org/pandas-docs/stable/user_guide/indexing.html#returning-a-view-versus-a-copy\n",
      "  This is separate from the ipykernel package so we can avoid doing imports until\n"
     ]
    },
    {
     "data": {
      "text/html": [
       "<div>\n",
       "<style scoped>\n",
       "    .dataframe tbody tr th:only-of-type {\n",
       "        vertical-align: middle;\n",
       "    }\n",
       "\n",
       "    .dataframe tbody tr th {\n",
       "        vertical-align: top;\n",
       "    }\n",
       "\n",
       "    .dataframe thead th {\n",
       "        text-align: right;\n",
       "    }\n",
       "</style>\n",
       "<table border=\"1\" class=\"dataframe\">\n",
       "  <thead>\n",
       "    <tr style=\"text-align: right;\">\n",
       "      <th></th>\n",
       "      <th>encd_name</th>\n",
       "      <th>transaction_date</th>\n",
       "      <th>k_interval</th>\n",
       "      <th>y_label</th>\n",
       "      <th>date</th>\n",
       "    </tr>\n",
       "  </thead>\n",
       "  <tbody>\n",
       "    <tr>\n",
       "      <th>0</th>\n",
       "      <td>815</td>\n",
       "      <td>2013-07-30</td>\n",
       "      <td>3.0</td>\n",
       "      <td>1</td>\n",
       "      <td>2013-07-30</td>\n",
       "    </tr>\n",
       "    <tr>\n",
       "      <th>1</th>\n",
       "      <td>815</td>\n",
       "      <td>2013-07-30</td>\n",
       "      <td>0.0</td>\n",
       "      <td>1</td>\n",
       "      <td>2013-07-30</td>\n",
       "    </tr>\n",
       "    <tr>\n",
       "      <th>2</th>\n",
       "      <td>2192</td>\n",
       "      <td>2013-07-29</td>\n",
       "      <td>4.0</td>\n",
       "      <td>1</td>\n",
       "      <td>2013-07-29</td>\n",
       "    </tr>\n",
       "    <tr>\n",
       "      <th>3</th>\n",
       "      <td>4722</td>\n",
       "      <td>2013-07-30</td>\n",
       "      <td>6.0</td>\n",
       "      <td>1</td>\n",
       "      <td>2013-07-30</td>\n",
       "    </tr>\n",
       "    <tr>\n",
       "      <th>4</th>\n",
       "      <td>3335</td>\n",
       "      <td>2013-07-30</td>\n",
       "      <td>1.0</td>\n",
       "      <td>1</td>\n",
       "      <td>2013-07-30</td>\n",
       "    </tr>\n",
       "    <tr>\n",
       "      <th>...</th>\n",
       "      <td>...</td>\n",
       "      <td>...</td>\n",
       "      <td>...</td>\n",
       "      <td>...</td>\n",
       "      <td>...</td>\n",
       "    </tr>\n",
       "    <tr>\n",
       "      <th>442453</th>\n",
       "      <td>5032</td>\n",
       "      <td>2014-06-20</td>\n",
       "      <td>0.0</td>\n",
       "      <td>1</td>\n",
       "      <td>2014-06-20</td>\n",
       "    </tr>\n",
       "    <tr>\n",
       "      <th>442454</th>\n",
       "      <td>5032</td>\n",
       "      <td>2014-06-20</td>\n",
       "      <td>0.0</td>\n",
       "      <td>1</td>\n",
       "      <td>2014-06-20</td>\n",
       "    </tr>\n",
       "    <tr>\n",
       "      <th>442455</th>\n",
       "      <td>5032</td>\n",
       "      <td>2014-06-20</td>\n",
       "      <td>0.0</td>\n",
       "      <td>1</td>\n",
       "      <td>2014-06-20</td>\n",
       "    </tr>\n",
       "    <tr>\n",
       "      <th>442456</th>\n",
       "      <td>5032</td>\n",
       "      <td>2014-06-19</td>\n",
       "      <td>0.0</td>\n",
       "      <td>1</td>\n",
       "      <td>2014-06-19</td>\n",
       "    </tr>\n",
       "    <tr>\n",
       "      <th>442457</th>\n",
       "      <td>5032</td>\n",
       "      <td>2014-06-20</td>\n",
       "      <td>0.0</td>\n",
       "      <td>1</td>\n",
       "      <td>2014-06-20</td>\n",
       "    </tr>\n",
       "  </tbody>\n",
       "</table>\n",
       "<p>437245 rows × 5 columns</p>\n",
       "</div>"
      ],
      "text/plain": [
       "        encd_name transaction_date  k_interval  y_label       date\n",
       "0             815       2013-07-30         3.0        1 2013-07-30\n",
       "1             815       2013-07-30         0.0        1 2013-07-30\n",
       "2            2192       2013-07-29         4.0        1 2013-07-29\n",
       "3            4722       2013-07-30         6.0        1 2013-07-30\n",
       "4            3335       2013-07-30         1.0        1 2013-07-30\n",
       "...           ...              ...         ...      ...        ...\n",
       "442453       5032       2014-06-20         0.0        1 2014-06-20\n",
       "442454       5032       2014-06-20         0.0        1 2014-06-20\n",
       "442455       5032       2014-06-20         0.0        1 2014-06-20\n",
       "442456       5032       2014-06-19         0.0        1 2014-06-19\n",
       "442457       5032       2014-06-20         0.0        1 2014-06-20\n",
       "\n",
       "[437245 rows x 5 columns]"
      ]
     },
     "execution_count": 5,
     "metadata": {},
     "output_type": "execute_result"
    }
   ],
   "source": [
    "cols = ['encd_name','transaction_date', 'k_interval', 'y_label']\n",
    "df = df[cols]\n",
    "df[\"date\"] = df[\"transaction_date\"]\n",
    "df"
   ]
  },
  {
   "cell_type": "code",
   "execution_count": 6,
   "id": "46092711",
   "metadata": {},
   "outputs": [
    {
     "name": "stdout",
     "output_type": "stream",
     "text": [
      "Requirement already satisfied: tqdm in c:\\users\\sohai\\miniconda3\\envs\\one_by_zero_submission_2\\lib\\site-packages (4.64.1)\n",
      "Requirement already satisfied: colorama in c:\\users\\sohai\\miniconda3\\envs\\one_by_zero_submission_2\\lib\\site-packages (from tqdm) (0.4.5)\n",
      "Requirement already satisfied: importlib-resources in c:\\users\\sohai\\miniconda3\\envs\\one_by_zero_submission_2\\lib\\site-packages (from tqdm) (5.4.0)\n",
      "Requirement already satisfied: zipp>=3.1.0 in c:\\users\\sohai\\miniconda3\\envs\\one_by_zero_submission_2\\lib\\site-packages (from importlib-resources->tqdm) (3.6.0)\n"
     ]
    }
   ],
   "source": [
    "!pip install tqdm"
   ]
  },
  {
   "cell_type": "code",
   "execution_count": 7,
   "id": "190274ef",
   "metadata": {},
   "outputs": [
    {
     "name": "stderr",
     "output_type": "stream",
     "text": [
      "437245it [02:51, 2549.21it/s]\n"
     ]
    },
    {
     "name": "stdout",
     "output_type": "stream",
     "text": [
      "        encd_name transaction_date  k_interval  y_label       date\n",
      "0             815       2013-07-30         3.0        0 2013-07-27\n",
      "0             815       2013-07-30         3.0        0 2013-07-28\n",
      "0             815       2013-07-30         3.0        0 2013-07-29\n",
      "0             815       2013-07-30         3.0        1 2013-07-30\n",
      "1             815       2013-07-30         0.0        1 2013-07-30\n",
      "...           ...              ...         ...      ...        ...\n",
      "442453       5032       2014-06-20         0.0        1 2014-06-20\n",
      "442454       5032       2014-06-20         0.0        1 2014-06-20\n",
      "442455       5032       2014-06-20         0.0        1 2014-06-20\n",
      "442456       5032       2014-06-19         0.0        1 2014-06-19\n",
      "442457       5032       2014-06-20         0.0        1 2014-06-20\n",
      "\n",
      "[1810895 rows x 5 columns]\n"
     ]
    }
   ],
   "source": [
    "# Define function to generate rows based on k_interval\n",
    "from tqdm import tqdm\n",
    "\n",
    "def generate_previous_rows(df):\n",
    "    rows = []\n",
    "    for _, row in tqdm(df.iterrows()):\n",
    "        start_date = row['date'] - pd.DateOffset(days=row['k_interval'])\n",
    "        end_date = row['date']\n",
    "        dates = pd.date_range(start_date, end_date)\n",
    "        for date in dates:\n",
    "            if date !=end_date:\n",
    "                new_row = row.copy()\n",
    "                new_row['date'] = date\n",
    "                new_row[\"y_label\"] = 0\n",
    "                rows.append(new_row)\n",
    "            else:\n",
    "                rows.append(row)\n",
    "    return pd.DataFrame(rows)\n",
    "\n",
    "# Generate rows based on k_interval\n",
    "generated_data = generate_previous_rows(df)\n",
    "print(generated_data)\n"
   ]
  },
  {
   "cell_type": "code",
   "execution_count": 8,
   "id": "95e7cace",
   "metadata": {},
   "outputs": [
    {
     "data": {
      "text/html": [
       "<div>\n",
       "<style scoped>\n",
       "    .dataframe tbody tr th:only-of-type {\n",
       "        vertical-align: middle;\n",
       "    }\n",
       "\n",
       "    .dataframe tbody tr th {\n",
       "        vertical-align: top;\n",
       "    }\n",
       "\n",
       "    .dataframe thead th {\n",
       "        text-align: right;\n",
       "    }\n",
       "</style>\n",
       "<table border=\"1\" class=\"dataframe\">\n",
       "  <thead>\n",
       "    <tr style=\"text-align: right;\">\n",
       "      <th></th>\n",
       "      <th>encd_name</th>\n",
       "      <th>month</th>\n",
       "      <th>weekday</th>\n",
       "      <th>k_interval</th>\n",
       "      <th>y_label</th>\n",
       "    </tr>\n",
       "  </thead>\n",
       "  <tbody>\n",
       "    <tr>\n",
       "      <th>0</th>\n",
       "      <td>815</td>\n",
       "      <td>7</td>\n",
       "      <td>5</td>\n",
       "      <td>3.0</td>\n",
       "      <td>0</td>\n",
       "    </tr>\n",
       "    <tr>\n",
       "      <th>0</th>\n",
       "      <td>815</td>\n",
       "      <td>7</td>\n",
       "      <td>6</td>\n",
       "      <td>3.0</td>\n",
       "      <td>0</td>\n",
       "    </tr>\n",
       "    <tr>\n",
       "      <th>0</th>\n",
       "      <td>815</td>\n",
       "      <td>7</td>\n",
       "      <td>0</td>\n",
       "      <td>3.0</td>\n",
       "      <td>0</td>\n",
       "    </tr>\n",
       "    <tr>\n",
       "      <th>0</th>\n",
       "      <td>815</td>\n",
       "      <td>7</td>\n",
       "      <td>1</td>\n",
       "      <td>3.0</td>\n",
       "      <td>1</td>\n",
       "    </tr>\n",
       "    <tr>\n",
       "      <th>1</th>\n",
       "      <td>815</td>\n",
       "      <td>7</td>\n",
       "      <td>1</td>\n",
       "      <td>0.0</td>\n",
       "      <td>1</td>\n",
       "    </tr>\n",
       "    <tr>\n",
       "      <th>...</th>\n",
       "      <td>...</td>\n",
       "      <td>...</td>\n",
       "      <td>...</td>\n",
       "      <td>...</td>\n",
       "      <td>...</td>\n",
       "    </tr>\n",
       "    <tr>\n",
       "      <th>442453</th>\n",
       "      <td>5032</td>\n",
       "      <td>6</td>\n",
       "      <td>4</td>\n",
       "      <td>0.0</td>\n",
       "      <td>1</td>\n",
       "    </tr>\n",
       "    <tr>\n",
       "      <th>442454</th>\n",
       "      <td>5032</td>\n",
       "      <td>6</td>\n",
       "      <td>4</td>\n",
       "      <td>0.0</td>\n",
       "      <td>1</td>\n",
       "    </tr>\n",
       "    <tr>\n",
       "      <th>442455</th>\n",
       "      <td>5032</td>\n",
       "      <td>6</td>\n",
       "      <td>4</td>\n",
       "      <td>0.0</td>\n",
       "      <td>1</td>\n",
       "    </tr>\n",
       "    <tr>\n",
       "      <th>442456</th>\n",
       "      <td>5032</td>\n",
       "      <td>6</td>\n",
       "      <td>3</td>\n",
       "      <td>0.0</td>\n",
       "      <td>1</td>\n",
       "    </tr>\n",
       "    <tr>\n",
       "      <th>442457</th>\n",
       "      <td>5032</td>\n",
       "      <td>6</td>\n",
       "      <td>4</td>\n",
       "      <td>0.0</td>\n",
       "      <td>1</td>\n",
       "    </tr>\n",
       "  </tbody>\n",
       "</table>\n",
       "<p>1810895 rows × 5 columns</p>\n",
       "</div>"
      ],
      "text/plain": [
       "        encd_name  month  weekday  k_interval  y_label\n",
       "0             815      7        5         3.0        0\n",
       "0             815      7        6         3.0        0\n",
       "0             815      7        0         3.0        0\n",
       "0             815      7        1         3.0        1\n",
       "1             815      7        1         0.0        1\n",
       "...           ...    ...      ...         ...      ...\n",
       "442453       5032      6        4         0.0        1\n",
       "442454       5032      6        4         0.0        1\n",
       "442455       5032      6        4         0.0        1\n",
       "442456       5032      6        3         0.0        1\n",
       "442457       5032      6        4         0.0        1\n",
       "\n",
       "[1810895 rows x 5 columns]"
      ]
     },
     "execution_count": 8,
     "metadata": {},
     "output_type": "execute_result"
    }
   ],
   "source": [
    "feature_data = generated_data[[\"encd_name\", \"date\", \"k_interval\", \"y_label\"]]\n",
    "feature_data[\"month\"] = feature_data[\"date\"].dt.month\n",
    "feature_data[\"weekday\"] = feature_data[\"date\"].dt.weekday\n",
    "\n",
    "\n",
    "feature_data = feature_data[[\"encd_name\", \"month\", \"weekday\",\"k_interval\", \"y_label\"]]\n",
    "feature_data"
   ]
  },
  {
   "cell_type": "code",
   "execution_count": 9,
   "id": "6d1d30f5",
   "metadata": {},
   "outputs": [
    {
     "data": {
      "text/plain": [
       "<AxesSubplot:>"
      ]
     },
     "execution_count": 9,
     "metadata": {},
     "output_type": "execute_result"
    },
    {
     "data": {
      "image/png": "[encoded data removed]",
      "text/plain": [
       "<Figure size 432x288 with 1 Axes>"
      ]
     },
     "metadata": {
      "needs_background": "light"
     },
     "output_type": "display_data"
    }
   ],
   "source": [
    "feature_data[\"y_label\"].hist()"
   ]
  },
  {
   "cell_type": "code",
   "execution_count": 19,
   "id": "20bfb19f-1267-4538-9509-e23c39bb255f",
   "metadata": {},
   "outputs": [
    {
     "data": {
      "text/html": [
       "<style  type=\"text/css\" >\n",
       "#T_a7467f4a_e019_11ee_90ef_50c2e8c3ad5crow0_col0,#T_a7467f4a_e019_11ee_90ef_50c2e8c3ad5crow1_col1,#T_a7467f4a_e019_11ee_90ef_50c2e8c3ad5crow2_col2{\n",
       "            background-color:  #b40426;\n",
       "            color:  #f1f1f1;\n",
       "        }#T_a7467f4a_e019_11ee_90ef_50c2e8c3ad5crow0_col1{\n",
       "            background-color:  #3c4ec2;\n",
       "            color:  #f1f1f1;\n",
       "        }#T_a7467f4a_e019_11ee_90ef_50c2e8c3ad5crow0_col2{\n",
       "            background-color:  #3d50c3;\n",
       "            color:  #f1f1f1;\n",
       "        }#T_a7467f4a_e019_11ee_90ef_50c2e8c3ad5crow1_col0,#T_a7467f4a_e019_11ee_90ef_50c2e8c3ad5crow1_col2,#T_a7467f4a_e019_11ee_90ef_50c2e8c3ad5crow2_col0,#T_a7467f4a_e019_11ee_90ef_50c2e8c3ad5crow2_col1{\n",
       "            background-color:  #3b4cc0;\n",
       "            color:  #f1f1f1;\n",
       "        }</style><table id=\"T_a7467f4a_e019_11ee_90ef_50c2e8c3ad5c\" ><thead>    <tr>        <th class=\"blank level0\" ></th>        <th class=\"col_heading level0 col0\" >encd_name</th>        <th class=\"col_heading level0 col1\" >month</th>        <th class=\"col_heading level0 col2\" >weekday</th>    </tr></thead><tbody>\n",
       "                <tr>\n",
       "                        <th id=\"T_a7467f4a_e019_11ee_90ef_50c2e8c3ad5clevel0_row0\" class=\"row_heading level0 row0\" >encd_name</th>\n",
       "                        <td id=\"T_a7467f4a_e019_11ee_90ef_50c2e8c3ad5crow0_col0\" class=\"data row0 col0\" >1.000000</td>\n",
       "                        <td id=\"T_a7467f4a_e019_11ee_90ef_50c2e8c3ad5crow0_col1\" class=\"data row0 col1\" >0.001774</td>\n",
       "                        <td id=\"T_a7467f4a_e019_11ee_90ef_50c2e8c3ad5crow0_col2\" class=\"data row0 col2\" >0.004304</td>\n",
       "            </tr>\n",
       "            <tr>\n",
       "                        <th id=\"T_a7467f4a_e019_11ee_90ef_50c2e8c3ad5clevel0_row1\" class=\"row_heading level0 row1\" >month</th>\n",
       "                        <td id=\"T_a7467f4a_e019_11ee_90ef_50c2e8c3ad5crow1_col0\" class=\"data row1 col0\" >0.001774</td>\n",
       "                        <td id=\"T_a7467f4a_e019_11ee_90ef_50c2e8c3ad5crow1_col1\" class=\"data row1 col1\" >1.000000</td>\n",
       "                        <td id=\"T_a7467f4a_e019_11ee_90ef_50c2e8c3ad5crow1_col2\" class=\"data row1 col2\" >-0.003550</td>\n",
       "            </tr>\n",
       "            <tr>\n",
       "                        <th id=\"T_a7467f4a_e019_11ee_90ef_50c2e8c3ad5clevel0_row2\" class=\"row_heading level0 row2\" >weekday</th>\n",
       "                        <td id=\"T_a7467f4a_e019_11ee_90ef_50c2e8c3ad5crow2_col0\" class=\"data row2 col0\" >0.004304</td>\n",
       "                        <td id=\"T_a7467f4a_e019_11ee_90ef_50c2e8c3ad5crow2_col1\" class=\"data row2 col1\" >-0.003550</td>\n",
       "                        <td id=\"T_a7467f4a_e019_11ee_90ef_50c2e8c3ad5crow2_col2\" class=\"data row2 col2\" >1.000000</td>\n",
       "            </tr>\n",
       "    </tbody></table>"
      ],
      "text/plain": [
       "<pandas.io.formats.style.Styler at 0x1dc529a1240>"
      ]
     },
     "execution_count": 19,
     "metadata": {},
     "output_type": "execute_result"
    }
   ],
   "source": [
    "X = feature_data[[\"encd_name\", \"month\", \"weekday\",\"k_interval\"]]\n",
    "Y = feature_data[\"y_label\"]\n",
    "corr = feature_data.corr()\n",
    "corr.style.background_gradient(cmap='coolwarm')"
   ]
  },
  {
   "cell_type": "code",
   "execution_count": 11,
   "id": "b5d6e325-fd38-469a-a19e-4495c0339467",
   "metadata": {},
   "outputs": [],
   "source": [
    "X_train, X_test, y_train, y_test = train_test_split(X, Y, test_size=0.2, random_state=42)"
   ]
  },
  {
   "cell_type": "code",
   "execution_count": 12,
   "id": "b33677fb-e17e-427c-b2c2-5221fe1f9a20",
   "metadata": {},
   "outputs": [
    {
     "name": "stderr",
     "output_type": "stream",
     "text": [
      "C:\\Users\\sohai\\miniconda3\\envs\\one_by_zero_submission_2\\lib\\site-packages\\xgboost\\sklearn.py:1224: UserWarning: The use of label encoder in XGBClassifier is deprecated and will be removed in a future release. To remove this warning, do the following: 1) Pass option use_label_encoder=False when constructing XGBClassifier object; and 2) Encode your labels (y) as integers starting with 0, i.e. 0, 1, 2, ..., [num_class - 1].\n",
      "  warnings.warn(label_encoder_deprecation_msg, UserWarning)\n"
     ]
    },
    {
     "name": "stdout",
     "output_type": "stream",
     "text": [
      "[08:05:26] WARNING: C:/Users/Administrator/workspace/xgboost-win64_release_1.5.1/src/learner.cc:1115: Starting in XGBoost 1.3.0, the default evaluation metric used with the objective 'binary:logistic' was changed from 'error' to 'logloss'. Explicitly set eval_metric if you'd like to restore the old behavior.\n"
     ]
    },
    {
     "data": {
      "text/plain": [
       "XGBClassifier(base_score=0.5, booster='gbtree', colsample_bylevel=1,\n",
       "              colsample_bynode=1, colsample_bytree=1, enable_categorical=False,\n",
       "              gamma=0, gpu_id=-1, importance_type=None,\n",
       "              interaction_constraints='', learning_rate=0.300000012,\n",
       "              max_delta_step=0, max_depth=6, min_child_weight=1, missing=nan,\n",
       "              monotone_constraints='()', n_estimators=100, n_jobs=12,\n",
       "              num_parallel_tree=1, predictor='auto', random_state=0,\n",
       "              reg_alpha=0, reg_lambda=1, scale_pos_weight=1, subsample=1,\n",
       "              tree_method='exact', validate_parameters=1, verbosity=None)"
      ]
     },
     "execution_count": 12,
     "metadata": {},
     "output_type": "execute_result"
    }
   ],
   "source": [
    "# Define and train the XGBoostClassifier model\n",
    "model = XGBClassifier()\n",
    "model.fit(X_train, y_train)\n",
    "\n"
   ]
  },
  {
   "cell_type": "markdown",
   "id": "20305e28",
   "metadata": {},
   "source": [
    "### For Train Dataset"
   ]
  },
  {
   "cell_type": "code",
   "execution_count": 13,
   "id": "8de68465",
   "metadata": {},
   "outputs": [
    {
     "name": "stdout",
     "output_type": "stream",
     "text": [
      "ROC_AUC_SCORE: 0.7958551706100808\n",
      "Classification Report: {'0': {'precision': 0.8941603136335909, 'recall': 0.9676432790617461, 'f1-score': 0.9294516578289491, 'support': 1110403}, '1': {'precision': 0.8545731991143816, 'recall': 0.6240670621584155, 'f1-score': 0.7213532591241125, 'support': 338313}, 'accuracy': 0.8874092644797186, 'macro avg': {'precision': 0.8743667563739863, 'recall': 0.7958551706100807, 'f1-score': 0.8254024584765308, 'support': 1448716}, 'weighted avg': {'precision': 0.8849156891010136, 'recall': 0.8874092644797186, 'f1-score': 0.8808552500022742, 'support': 1448716}}\n"
     ]
    }
   ],
   "source": [
    "y_pred = model.predict(X_train)\n",
    "print(f\"ROC_AUC_SCORE: {roc_auc_score(y_train,y_pred)}\")\n",
    "print(f\"Classification Report: {classification_report(y_train, y_pred, output_dict=True)}\")"
   ]
  },
  {
   "cell_type": "markdown",
   "id": "cac52c2f",
   "metadata": {},
   "source": [
    "### For Test Dataset"
   ]
  },
  {
   "cell_type": "code",
   "execution_count": 14,
   "id": "abe23457",
   "metadata": {},
   "outputs": [
    {
     "name": "stdout",
     "output_type": "stream",
     "text": [
      "ROC_AUC_SCORE: 0.7954142966760188\n",
      "Classification Report: {'0': {'precision': 0.8940632397644074, 'recall': 0.9671948105273395, 'f1-score': 0.9291923015702748, 'support': 277639}, '1': {'precision': 0.8526928675400292, 'recall': 0.6236337828246984, 'f1-score': 0.7203935232629638, 'support': 84540}, 'accuracy': 0.887000626761905, 'macro avg': {'precision': 0.8733780536522182, 'recall': 0.7954142966760189, 'f1-score': 0.8247929124166193, 'support': 362179}, 'weighted avg': {'precision': 0.8844065471680698, 'recall': 0.887000626761905, 'f1-score': 0.8804543882232831, 'support': 362179}}\n"
     ]
    }
   ],
   "source": [
    "y_pred = model.predict(X_test)\n",
    "print(f\"ROC_AUC_SCORE: {roc_auc_score(y_test,y_pred)}\")\n",
    "print(f\"Classification Report: {classification_report(y_test, y_pred, output_dict=True)}\")"
   ]
  },
  {
   "cell_type": "code",
   "execution_count": 15,
   "id": "ba7a9a3d-7b9f-4662-9151-6fd735debf5b",
   "metadata": {},
   "outputs": [
    {
     "data": {
      "text/plain": [
       "encd_name     3305.0\n",
       "month            9.0\n",
       "weekday          0.0\n",
       "k_interval      20.0\n",
       "Name: 32973, dtype: float64"
      ]
     },
     "execution_count": 15,
     "metadata": {},
     "output_type": "execute_result"
    }
   ],
   "source": [
    "X_train.iloc[0]"
   ]
  },
  {
   "cell_type": "markdown",
   "id": "501b7436",
   "metadata": {},
   "source": [
    "## Saving Model Using Joblib along with Name:Category_code mapping"
   ]
  },
  {
   "cell_type": "code",
   "execution_count": 17,
   "id": "9513e44f-697d-428d-92ba-0abe0cf35dae",
   "metadata": {},
   "outputs": [],
   "source": [
    "joblib.dump(model, \"../models/classification_model.pkl\")\n",
    "_ = joblib.load( \"../models/classification_model.pkl\")\n",
    "\n",
    "import json\n",
    "\n",
    "with open(\"../models/classification_model_name_codes.json\", 'w') as fp: \n",
    "     fp.write(json.dumps(name_cat_code_map))\n",
    "\n",
    "with open(\"../models/classification_model_name_codes.json\", \"r\") as f:\n",
    "    _ = json.load(f)"
   ]
  },
  {
   "cell_type": "code",
   "execution_count": 22,
   "id": "71fc2d61",
   "metadata": {},
   "outputs": [
    {
     "data": {
      "text/plain": [
       "3"
      ]
     },
     "execution_count": 22,
     "metadata": {},
     "output_type": "execute_result"
    }
   ],
   "source": [
    "import datetime\n",
    "datetime.datetime.today().month"
   ]
  },
  {
   "cell_type": "markdown",
   "id": "a61adf6c",
   "metadata": {},
   "source": [
    "## To be added to the model service"
   ]
  },
  {
   "cell_type": "code",
   "execution_count": 73,
   "id": "de2301cb-a59a-4e8c-acca-73fbea53118d",
   "metadata": {},
   "outputs": [
    {
     "data": {
      "text/plain": [
       "0"
      ]
     },
     "execution_count": 73,
     "metadata": {},
     "output_type": "execute_result"
    }
   ],
   "source": [
    "import datetime\n",
    "# Input\n",
    "\n",
    "name = \"C_Mason\"\n",
    "k = 5\n",
    "name_codes_map=None\n",
    "xgboost_classifier=joblib.load( \"../models/classification_model.pkl\")\n",
    "\n",
    "\n",
    "with open(\"../models/classification_model_name_codes.json\", \"r\") as f:\n",
    "    name_codes_map = json.load(f)\n",
    "\n",
    "# def generate_rows(df):\n",
    "#     rows = []\n",
    "#     for _, row in df.iterrows():\n",
    "#         start_date = row['date']\n",
    "#         end_date = start_date + pd.DateOffset(days=row['k_interval'])\n",
    "#         dates = pd.date_range(start_date, end_date)\n",
    "#         for date in dates:\n",
    "#             new_row = row.copy()\n",
    "#             new_row['date'] = date\n",
    "#             rows.append(new_row)\n",
    "#     return pd.DataFrame(rows)\n",
    "\n",
    "df = pd.DataFrame({\n",
    "        \"encd_name\": name_cat_code_map[name],\n",
    "        \"month\": datetime.datetime.today().month,\n",
    "        \"weekday\": datetime.datetime.today().weekday(),\n",
    "        \"k_interval\": k\n",
    "    },index=[0]).astype('float64')\n",
    "xgboost_classifier.predict(df)[0]"
   ]
  },
  {
   "cell_type": "code",
   "execution_count": 76,
   "id": "fe756805",
   "metadata": {},
   "outputs": [
    {
     "data": {
      "text/plain": [
       "815.0"
      ]
     },
     "execution_count": 76,
     "metadata": {},
     "output_type": "execute_result"
    }
   ],
   "source": [
    "df[\"encd_name\"].iloc[0]"
   ]
  }
 ],
 "metadata": {
  "kernelspec": {
   "display_name": "Python 3",
   "language": "python",
   "name": "python3"
  },
  "language_info": {
   "codemirror_mode": {
    "name": "ipython",
    "version": 3
   },
   "file_extension": ".py",
   "mimetype": "text/x-python",
   "name": "python",
   "nbconvert_exporter": "python",
   "pygments_lexer": "ipython3",
   "version": "3.6.13"
  }
 },
 "nbformat": 4,
 "nbformat_minor": 5
}
