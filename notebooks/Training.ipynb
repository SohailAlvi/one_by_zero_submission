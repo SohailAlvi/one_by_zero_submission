{
 "cells": [
  {
   "cell_type": "code",
   "execution_count": 1,
   "id": "20731c01-08c9-4db6-9132-0b6f2fabadaf",
   "metadata": {},
   "outputs": [],
   "source": [
    "import pandas as pd\n",
    "import joblib\n",
    "from xgboost import XGBClassifier\n",
    "from collections import Counter\n",
    "from sklearn.model_selection import train_test_split\n",
    "from sklearn.metrics import classification_report, roc_auc_score\n",
    "import matplotlib.pyplot as plt"
   ]
  },
  {
   "cell_type": "code",
   "execution_count": 2,
   "id": "a20b63ab-2549-4e17-be5b-7c56f81ff649",
   "metadata": {},
   "outputs": [
    {
     "data": {
      "text/html": [
       "<div>\n",
       "<style scoped>\n",
       "    .dataframe tbody tr th:only-of-type {\n",
       "        vertical-align: middle;\n",
       "    }\n",
       "\n",
       "    .dataframe tbody tr th {\n",
       "        vertical-align: top;\n",
       "    }\n",
       "\n",
       "    .dataframe thead th {\n",
       "        text-align: right;\n",
       "    }\n",
       "</style>\n",
       "<table border=\"1\" class=\"dataframe\">\n",
       "  <thead>\n",
       "    <tr style=\"text-align: right;\">\n",
       "      <th></th>\n",
       "      <th>Year-Month</th>\n",
       "      <th>Agency Number</th>\n",
       "      <th>Agency Name</th>\n",
       "      <th>Cardholder Last Name</th>\n",
       "      <th>Cardholder First Initial</th>\n",
       "      <th>Description</th>\n",
       "      <th>Amount</th>\n",
       "      <th>Vendor</th>\n",
       "      <th>Transaction Date</th>\n",
       "      <th>Posted Date</th>\n",
       "      <th>Merchant Category Code (MCC)</th>\n",
       "    </tr>\n",
       "  </thead>\n",
       "  <tbody>\n",
       "    <tr>\n",
       "      <th>0</th>\n",
       "      <td>201307</td>\n",
       "      <td>1000</td>\n",
       "      <td>OKLAHOMA STATE UNIVERSITY</td>\n",
       "      <td>Mason</td>\n",
       "      <td>C</td>\n",
       "      <td>GENERAL PURCHASE</td>\n",
       "      <td>890.00</td>\n",
       "      <td>NACAS</td>\n",
       "      <td>07/30/2013 12:00:00 AM</td>\n",
       "      <td>07/31/2013 12:00:00 AM</td>\n",
       "      <td>CHARITABLE AND SOCIAL SERVICE ORGANIZATIONS</td>\n",
       "    </tr>\n",
       "    <tr>\n",
       "      <th>1</th>\n",
       "      <td>201307</td>\n",
       "      <td>1000</td>\n",
       "      <td>OKLAHOMA STATE UNIVERSITY</td>\n",
       "      <td>Mason</td>\n",
       "      <td>C</td>\n",
       "      <td>ROOM CHARGES</td>\n",
       "      <td>368.96</td>\n",
       "      <td>SHERATON HOTEL</td>\n",
       "      <td>07/30/2013 12:00:00 AM</td>\n",
       "      <td>07/31/2013 12:00:00 AM</td>\n",
       "      <td>SHERATON</td>\n",
       "    </tr>\n",
       "    <tr>\n",
       "      <th>2</th>\n",
       "      <td>201307</td>\n",
       "      <td>1000</td>\n",
       "      <td>OKLAHOMA STATE UNIVERSITY</td>\n",
       "      <td>Massey</td>\n",
       "      <td>J</td>\n",
       "      <td>GENERAL PURCHASE</td>\n",
       "      <td>165.82</td>\n",
       "      <td>SEARS.COM 9300</td>\n",
       "      <td>07/29/2013 12:00:00 AM</td>\n",
       "      <td>07/31/2013 12:00:00 AM</td>\n",
       "      <td>DIRCT MARKETING/DIRCT MARKETERS--NOT ELSEWHERE...</td>\n",
       "    </tr>\n",
       "    <tr>\n",
       "      <th>3</th>\n",
       "      <td>201307</td>\n",
       "      <td>1000</td>\n",
       "      <td>OKLAHOMA STATE UNIVERSITY</td>\n",
       "      <td>Massey</td>\n",
       "      <td>T</td>\n",
       "      <td>GENERAL PURCHASE</td>\n",
       "      <td>96.39</td>\n",
       "      <td>WAL-MART #0137</td>\n",
       "      <td>07/30/2013 12:00:00 AM</td>\n",
       "      <td>07/31/2013 12:00:00 AM</td>\n",
       "      <td>GROCERY STORES,AND SUPERMARKETS</td>\n",
       "    </tr>\n",
       "    <tr>\n",
       "      <th>4</th>\n",
       "      <td>201307</td>\n",
       "      <td>1000</td>\n",
       "      <td>OKLAHOMA STATE UNIVERSITY</td>\n",
       "      <td>Mauro-Herrera</td>\n",
       "      <td>M</td>\n",
       "      <td>HAMMERMILL COPY PLUS COPY EA</td>\n",
       "      <td>125.96</td>\n",
       "      <td>STAPLES DIRECT</td>\n",
       "      <td>07/30/2013 12:00:00 AM</td>\n",
       "      <td>07/31/2013 12:00:00 AM</td>\n",
       "      <td>STATIONERY, OFFICE SUPPLIES, PRINTING AND WRIT...</td>\n",
       "    </tr>\n",
       "  </tbody>\n",
       "</table>\n",
       "</div>"
      ],
      "text/plain": [
       "   Year-Month  Agency Number                Agency Name Cardholder Last Name  \\\n",
       "0      201307           1000  OKLAHOMA STATE UNIVERSITY                Mason   \n",
       "1      201307           1000  OKLAHOMA STATE UNIVERSITY                Mason   \n",
       "2      201307           1000  OKLAHOMA STATE UNIVERSITY               Massey   \n",
       "3      201307           1000  OKLAHOMA STATE UNIVERSITY               Massey   \n",
       "4      201307           1000  OKLAHOMA STATE UNIVERSITY        Mauro-Herrera   \n",
       "\n",
       "  Cardholder First Initial                   Description  Amount  \\\n",
       "0                        C              GENERAL PURCHASE  890.00   \n",
       "1                        C                  ROOM CHARGES  368.96   \n",
       "2                        J              GENERAL PURCHASE  165.82   \n",
       "3                        T              GENERAL PURCHASE   96.39   \n",
       "4                        M  HAMMERMILL COPY PLUS COPY EA  125.96   \n",
       "\n",
       "           Vendor        Transaction Date             Posted Date  \\\n",
       "0           NACAS  07/30/2013 12:00:00 AM  07/31/2013 12:00:00 AM   \n",
       "1  SHERATON HOTEL  07/30/2013 12:00:00 AM  07/31/2013 12:00:00 AM   \n",
       "2  SEARS.COM 9300  07/29/2013 12:00:00 AM  07/31/2013 12:00:00 AM   \n",
       "3  WAL-MART #0137  07/30/2013 12:00:00 AM  07/31/2013 12:00:00 AM   \n",
       "4  STAPLES DIRECT  07/30/2013 12:00:00 AM  07/31/2013 12:00:00 AM   \n",
       "\n",
       "                        Merchant Category Code (MCC)  \n",
       "0        CHARITABLE AND SOCIAL SERVICE ORGANIZATIONS  \n",
       "1                                           SHERATON  \n",
       "2  DIRCT MARKETING/DIRCT MARKETERS--NOT ELSEWHERE...  \n",
       "3                    GROCERY STORES,AND SUPERMARKETS  \n",
       "4  STATIONERY, OFFICE SUPPLIES, PRINTING AND WRIT...  "
      ]
     },
     "execution_count": 2,
     "metadata": {},
     "output_type": "execute_result"
    }
   ],
   "source": [
    "data = pd.read_csv('../data/res_purchase_card_fiscal_year_2014_3pcd-aiuu.csv')\n",
    "data.head(5)"
   ]
  },
  {
   "cell_type": "markdown",
   "id": "f03b27b3-0796-447e-824d-06d26bb7e42f",
   "metadata": {},
   "source": [
    "### Feature Extraction\n",
    "\n",
    "With the given data, the following features can be extracted:\n",
    "1) Weekday on which the transaction took place\n",
    "2) Month in which this transaction took place\n",
    "3) Time interval(K) in between transactions for each cardholder\n",
    "4) There are some transactions where the transaction consist of negative amount that we came across in EDA , this indicates a refund. These can be used as our labels."
   ]
  },
  {
   "cell_type": "code",
   "execution_count": 3,
   "id": "fe2f2e42-ea4f-454d-b0ab-f6e3c4f36a0f",
   "metadata": {},
   "outputs": [
    {
     "data": {
      "text/html": [
       "<div>\n",
       "<style scoped>\n",
       "    .dataframe tbody tr th:only-of-type {\n",
       "        vertical-align: middle;\n",
       "    }\n",
       "\n",
       "    .dataframe tbody tr th {\n",
       "        vertical-align: top;\n",
       "    }\n",
       "\n",
       "    .dataframe thead th {\n",
       "        text-align: right;\n",
       "    }\n",
       "</style>\n",
       "<table border=\"1\" class=\"dataframe\">\n",
       "  <thead>\n",
       "    <tr style=\"text-align: right;\">\n",
       "      <th></th>\n",
       "      <th>name</th>\n",
       "      <th>transaction_date</th>\n",
       "      <th>amount_spend</th>\n",
       "      <th>weekday</th>\n",
       "      <th>month</th>\n",
       "      <th>k</th>\n",
       "      <th>y_label</th>\n",
       "      <th>encd_name</th>\n",
       "    </tr>\n",
       "  </thead>\n",
       "  <tbody>\n",
       "    <tr>\n",
       "      <th>0</th>\n",
       "      <td>C_Mason</td>\n",
       "      <td>2013-07-30</td>\n",
       "      <td>890.00</td>\n",
       "      <td>1</td>\n",
       "      <td>7</td>\n",
       "      <td>3.0</td>\n",
       "      <td>1</td>\n",
       "      <td>815</td>\n",
       "    </tr>\n",
       "    <tr>\n",
       "      <th>1</th>\n",
       "      <td>C_Mason</td>\n",
       "      <td>2013-07-30</td>\n",
       "      <td>368.96</td>\n",
       "      <td>1</td>\n",
       "      <td>7</td>\n",
       "      <td>0.0</td>\n",
       "      <td>1</td>\n",
       "      <td>815</td>\n",
       "    </tr>\n",
       "    <tr>\n",
       "      <th>2</th>\n",
       "      <td>J_Massey</td>\n",
       "      <td>2013-07-29</td>\n",
       "      <td>165.82</td>\n",
       "      <td>0</td>\n",
       "      <td>7</td>\n",
       "      <td>4.0</td>\n",
       "      <td>1</td>\n",
       "      <td>2192</td>\n",
       "    </tr>\n",
       "    <tr>\n",
       "      <th>3</th>\n",
       "      <td>T_Massey</td>\n",
       "      <td>2013-07-30</td>\n",
       "      <td>96.39</td>\n",
       "      <td>1</td>\n",
       "      <td>7</td>\n",
       "      <td>6.0</td>\n",
       "      <td>1</td>\n",
       "      <td>4722</td>\n",
       "    </tr>\n",
       "    <tr>\n",
       "      <th>4</th>\n",
       "      <td>M_Mauro-Herrera</td>\n",
       "      <td>2013-07-30</td>\n",
       "      <td>125.96</td>\n",
       "      <td>1</td>\n",
       "      <td>7</td>\n",
       "      <td>1.0</td>\n",
       "      <td>1</td>\n",
       "      <td>3335</td>\n",
       "    </tr>\n",
       "    <tr>\n",
       "      <th>...</th>\n",
       "      <td>...</td>\n",
       "      <td>...</td>\n",
       "      <td>...</td>\n",
       "      <td>...</td>\n",
       "      <td>...</td>\n",
       "      <td>...</td>\n",
       "      <td>...</td>\n",
       "      <td>...</td>\n",
       "    </tr>\n",
       "    <tr>\n",
       "      <th>442453</th>\n",
       "      <td>e_Cardholder</td>\n",
       "      <td>2014-06-20</td>\n",
       "      <td>992.00</td>\n",
       "      <td>4</td>\n",
       "      <td>6</td>\n",
       "      <td>0.0</td>\n",
       "      <td>1</td>\n",
       "      <td>5032</td>\n",
       "    </tr>\n",
       "    <tr>\n",
       "      <th>442454</th>\n",
       "      <td>e_Cardholder</td>\n",
       "      <td>2014-06-20</td>\n",
       "      <td>2415.00</td>\n",
       "      <td>4</td>\n",
       "      <td>6</td>\n",
       "      <td>0.0</td>\n",
       "      <td>1</td>\n",
       "      <td>5032</td>\n",
       "    </tr>\n",
       "    <tr>\n",
       "      <th>442455</th>\n",
       "      <td>e_Cardholder</td>\n",
       "      <td>2014-06-20</td>\n",
       "      <td>177.50</td>\n",
       "      <td>4</td>\n",
       "      <td>6</td>\n",
       "      <td>0.0</td>\n",
       "      <td>1</td>\n",
       "      <td>5032</td>\n",
       "    </tr>\n",
       "    <tr>\n",
       "      <th>442456</th>\n",
       "      <td>e_Cardholder</td>\n",
       "      <td>2014-06-19</td>\n",
       "      <td>32457.00</td>\n",
       "      <td>3</td>\n",
       "      <td>6</td>\n",
       "      <td>0.0</td>\n",
       "      <td>1</td>\n",
       "      <td>5032</td>\n",
       "    </tr>\n",
       "    <tr>\n",
       "      <th>442457</th>\n",
       "      <td>e_Cardholder</td>\n",
       "      <td>2014-06-20</td>\n",
       "      <td>4714.07</td>\n",
       "      <td>4</td>\n",
       "      <td>6</td>\n",
       "      <td>0.0</td>\n",
       "      <td>1</td>\n",
       "      <td>5032</td>\n",
       "    </tr>\n",
       "  </tbody>\n",
       "</table>\n",
       "<p>437245 rows × 8 columns</p>\n",
       "</div>"
      ],
      "text/plain": [
       "                   name transaction_date  amount_spend  weekday  month    k  \\\n",
       "0               C_Mason       2013-07-30        890.00        1      7  3.0   \n",
       "1               C_Mason       2013-07-30        368.96        1      7  0.0   \n",
       "2              J_Massey       2013-07-29        165.82        0      7  4.0   \n",
       "3              T_Massey       2013-07-30         96.39        1      7  6.0   \n",
       "4       M_Mauro-Herrera       2013-07-30        125.96        1      7  1.0   \n",
       "...                 ...              ...           ...      ...    ...  ...   \n",
       "442453     e_Cardholder       2014-06-20        992.00        4      6  0.0   \n",
       "442454     e_Cardholder       2014-06-20       2415.00        4      6  0.0   \n",
       "442455     e_Cardholder       2014-06-20        177.50        4      6  0.0   \n",
       "442456     e_Cardholder       2014-06-19      32457.00        3      6  0.0   \n",
       "442457     e_Cardholder       2014-06-20       4714.07        4      6  0.0   \n",
       "\n",
       "        y_label  encd_name  \n",
       "0             1        815  \n",
       "1             1        815  \n",
       "2             1       2192  \n",
       "3             1       4722  \n",
       "4             1       3335  \n",
       "...         ...        ...  \n",
       "442453        1       5032  \n",
       "442454        1       5032  \n",
       "442455        1       5032  \n",
       "442456        1       5032  \n",
       "442457        1       5032  \n",
       "\n",
       "[437245 rows x 8 columns]"
      ]
     },
     "execution_count": 3,
     "metadata": {},
     "output_type": "execute_result"
    }
   ],
   "source": [
    "df = data.copy()\n",
    "\n",
    "\n",
    "df[\"name\"] = df[\"Cardholder First Initial\"].astype(str).str.cat(df[\"Cardholder Last Name\"].astype(str), sep=\"_\")\n",
    "df = df[[\"name\", \"Transaction Date\", \"Amount\"]]\n",
    "df.columns = [\"name\", \"transaction_date\", \"amount_spend\"]\n",
    "df[\"transaction_date\"] = pd.to_datetime(df[\"transaction_date\"])\n",
    "df[\"weekday\"] = df[\"transaction_date\"].dt.weekday\n",
    "df[\"month\"] = df[\"transaction_date\"].dt.month\n",
    "df[\"k\"] = df.sort_values([\"name\", \"transaction_date\"]).groupby(\"name\")[\"transaction_date\"].diff().dt.days\n",
    "df.dropna(subset=[\"k\"], inplace=True)\n",
    "\n",
    "df[\"y_label\"] = df[\"amount_spend\"].map(lambda x: 1 if x >0 else 0)\n",
    "df[\"encd_name\"] = df.name.astype('category').cat.codes\n",
    "df"
   ]
  },
  {
   "cell_type": "code",
   "execution_count": 4,
   "id": "fe762431-54be-4087-9f84-04c46e1852f6",
   "metadata": {},
   "outputs": [
    {
     "data": {
      "text/html": [
       "<div>\n",
       "<style scoped>\n",
       "    .dataframe tbody tr th:only-of-type {\n",
       "        vertical-align: middle;\n",
       "    }\n",
       "\n",
       "    .dataframe tbody tr th {\n",
       "        vertical-align: top;\n",
       "    }\n",
       "\n",
       "    .dataframe thead th {\n",
       "        text-align: right;\n",
       "    }\n",
       "</style>\n",
       "<table border=\"1\" class=\"dataframe\">\n",
       "  <thead>\n",
       "    <tr style=\"text-align: right;\">\n",
       "      <th></th>\n",
       "      <th>name</th>\n",
       "    </tr>\n",
       "  </thead>\n",
       "  <tbody>\n",
       "    <tr>\n",
       "      <th>count</th>\n",
       "      <td>3046.000000</td>\n",
       "    </tr>\n",
       "    <tr>\n",
       "      <th>mean</th>\n",
       "      <td>4.724885</td>\n",
       "    </tr>\n",
       "    <tr>\n",
       "      <th>std</th>\n",
       "      <td>13.117249</td>\n",
       "    </tr>\n",
       "    <tr>\n",
       "      <th>min</th>\n",
       "      <td>1.000000</td>\n",
       "    </tr>\n",
       "    <tr>\n",
       "      <th>25%</th>\n",
       "      <td>1.000000</td>\n",
       "    </tr>\n",
       "    <tr>\n",
       "      <th>50%</th>\n",
       "      <td>2.000000</td>\n",
       "    </tr>\n",
       "    <tr>\n",
       "      <th>75%</th>\n",
       "      <td>5.000000</td>\n",
       "    </tr>\n",
       "    <tr>\n",
       "      <th>max</th>\n",
       "      <td>487.000000</td>\n",
       "    </tr>\n",
       "  </tbody>\n",
       "</table>\n",
       "</div>"
      ],
      "text/plain": [
       "              name\n",
       "count  3046.000000\n",
       "mean      4.724885\n",
       "std      13.117249\n",
       "min       1.000000\n",
       "25%       1.000000\n",
       "50%       2.000000\n",
       "75%       5.000000\n",
       "max     487.000000"
      ]
     },
     "execution_count": 4,
     "metadata": {},
     "output_type": "execute_result"
    }
   ],
   "source": [
    "df[df.y_label==0].groupby(\"name\").agg({\"name\": \"count\"}).describe()"
   ]
  },
  {
   "cell_type": "code",
   "execution_count": 5,
   "id": "f7bae987-cdc8-4264-a384-9c1fafda040b",
   "metadata": {},
   "outputs": [
    {
     "data": {
      "text/html": [
       "<div>\n",
       "<style scoped>\n",
       "    .dataframe tbody tr th:only-of-type {\n",
       "        vertical-align: middle;\n",
       "    }\n",
       "\n",
       "    .dataframe tbody tr th {\n",
       "        vertical-align: top;\n",
       "    }\n",
       "\n",
       "    .dataframe thead th {\n",
       "        text-align: right;\n",
       "    }\n",
       "</style>\n",
       "<table border=\"1\" class=\"dataframe\">\n",
       "  <thead>\n",
       "    <tr style=\"text-align: right;\">\n",
       "      <th></th>\n",
       "      <th>name</th>\n",
       "    </tr>\n",
       "  </thead>\n",
       "  <tbody>\n",
       "    <tr>\n",
       "      <th>count</th>\n",
       "      <td>5019.000000</td>\n",
       "    </tr>\n",
       "    <tr>\n",
       "      <th>mean</th>\n",
       "      <td>84.250448</td>\n",
       "    </tr>\n",
       "    <tr>\n",
       "      <th>std</th>\n",
       "      <td>238.335010</td>\n",
       "    </tr>\n",
       "    <tr>\n",
       "      <th>min</th>\n",
       "      <td>1.000000</td>\n",
       "    </tr>\n",
       "    <tr>\n",
       "      <th>25%</th>\n",
       "      <td>13.000000</td>\n",
       "    </tr>\n",
       "    <tr>\n",
       "      <th>50%</th>\n",
       "      <td>36.000000</td>\n",
       "    </tr>\n",
       "    <tr>\n",
       "      <th>75%</th>\n",
       "      <td>90.000000</td>\n",
       "    </tr>\n",
       "    <tr>\n",
       "      <th>max</th>\n",
       "      <td>9649.000000</td>\n",
       "    </tr>\n",
       "  </tbody>\n",
       "</table>\n",
       "</div>"
      ],
      "text/plain": [
       "              name\n",
       "count  5019.000000\n",
       "mean     84.250448\n",
       "std     238.335010\n",
       "min       1.000000\n",
       "25%      13.000000\n",
       "50%      36.000000\n",
       "75%      90.000000\n",
       "max    9649.000000"
      ]
     },
     "execution_count": 5,
     "metadata": {},
     "output_type": "execute_result"
    }
   ],
   "source": [
    "df[df.y_label==1].groupby(\"name\").agg({\"name\": \"count\"}).describe()"
   ]
  },
  {
   "cell_type": "code",
   "execution_count": 6,
   "id": "9a19fa49-ecca-46e2-a8f8-4406a6577edc",
   "metadata": {},
   "outputs": [
    {
     "data": {
      "text/plain": [
       "(5036,)"
      ]
     },
     "execution_count": 6,
     "metadata": {},
     "output_type": "execute_result"
    }
   ],
   "source": [
    "df.name.unique().shape"
   ]
  },
  {
   "cell_type": "code",
   "execution_count": 7,
   "id": "318c0521-bb24-477f-a008-9abf38b97d39",
   "metadata": {},
   "outputs": [
    {
     "data": {
      "text/plain": [
       "(437245, 8)"
      ]
     },
     "execution_count": 7,
     "metadata": {},
     "output_type": "execute_result"
    }
   ],
   "source": [
    "df.shape"
   ]
  },
  {
   "cell_type": "code",
   "execution_count": 8,
   "id": "20bfb19f-1267-4538-9509-e23c39bb255f",
   "metadata": {},
   "outputs": [
    {
     "data": {
      "text/html": [
       "<style  type=\"text/css\" >\n",
       "#T_d8e11e4a_df7c_11ee_bb9b_50c2e8c3ad5crow0_col0,#T_d8e11e4a_df7c_11ee_bb9b_50c2e8c3ad5crow1_col1,#T_d8e11e4a_df7c_11ee_bb9b_50c2e8c3ad5crow2_col2,#T_d8e11e4a_df7c_11ee_bb9b_50c2e8c3ad5crow3_col3{\n",
       "            background-color:  #b40426;\n",
       "            color:  #f1f1f1;\n",
       "        }#T_d8e11e4a_df7c_11ee_bb9b_50c2e8c3ad5crow0_col1,#T_d8e11e4a_df7c_11ee_bb9b_50c2e8c3ad5crow0_col2{\n",
       "            background-color:  #4055c8;\n",
       "            color:  #f1f1f1;\n",
       "        }#T_d8e11e4a_df7c_11ee_bb9b_50c2e8c3ad5crow0_col3{\n",
       "            background-color:  #4257c9;\n",
       "            color:  #f1f1f1;\n",
       "        }#T_d8e11e4a_df7c_11ee_bb9b_50c2e8c3ad5crow1_col0,#T_d8e11e4a_df7c_11ee_bb9b_50c2e8c3ad5crow1_col2,#T_d8e11e4a_df7c_11ee_bb9b_50c2e8c3ad5crow1_col3,#T_d8e11e4a_df7c_11ee_bb9b_50c2e8c3ad5crow3_col1,#T_d8e11e4a_df7c_11ee_bb9b_50c2e8c3ad5crow3_col2{\n",
       "            background-color:  #3b4cc0;\n",
       "            color:  #f1f1f1;\n",
       "        }#T_d8e11e4a_df7c_11ee_bb9b_50c2e8c3ad5crow2_col0,#T_d8e11e4a_df7c_11ee_bb9b_50c2e8c3ad5crow2_col1,#T_d8e11e4a_df7c_11ee_bb9b_50c2e8c3ad5crow2_col3,#T_d8e11e4a_df7c_11ee_bb9b_50c2e8c3ad5crow3_col0{\n",
       "            background-color:  #3c4ec2;\n",
       "            color:  #f1f1f1;\n",
       "        }</style><table id=\"T_d8e11e4a_df7c_11ee_bb9b_50c2e8c3ad5c\" ><thead>    <tr>        <th class=\"blank level0\" ></th>        <th class=\"col_heading level0 col0\" >amount_spend</th>        <th class=\"col_heading level0 col1\" >weekday</th>        <th class=\"col_heading level0 col2\" >month</th>        <th class=\"col_heading level0 col3\" >k</th>    </tr></thead><tbody>\n",
       "                <tr>\n",
       "                        <th id=\"T_d8e11e4a_df7c_11ee_bb9b_50c2e8c3ad5clevel0_row0\" class=\"row_heading level0 row0\" >amount_spend</th>\n",
       "                        <td id=\"T_d8e11e4a_df7c_11ee_bb9b_50c2e8c3ad5crow0_col0\" class=\"data row0 col0\" >1.000000</td>\n",
       "                        <td id=\"T_d8e11e4a_df7c_11ee_bb9b_50c2e8c3ad5crow0_col1\" class=\"data row0 col1\" >-0.004056</td>\n",
       "                        <td id=\"T_d8e11e4a_df7c_11ee_bb9b_50c2e8c3ad5crow0_col2\" class=\"data row0 col2\" >0.000504</td>\n",
       "                        <td id=\"T_d8e11e4a_df7c_11ee_bb9b_50c2e8c3ad5crow0_col3\" class=\"data row0 col3\" >0.000016</td>\n",
       "            </tr>\n",
       "            <tr>\n",
       "                        <th id=\"T_d8e11e4a_df7c_11ee_bb9b_50c2e8c3ad5clevel0_row1\" class=\"row_heading level0 row1\" >weekday</th>\n",
       "                        <td id=\"T_d8e11e4a_df7c_11ee_bb9b_50c2e8c3ad5crow1_col0\" class=\"data row1 col0\" >-0.004056</td>\n",
       "                        <td id=\"T_d8e11e4a_df7c_11ee_bb9b_50c2e8c3ad5crow1_col1\" class=\"data row1 col1\" >1.000000</td>\n",
       "                        <td id=\"T_d8e11e4a_df7c_11ee_bb9b_50c2e8c3ad5crow1_col2\" class=\"data row1 col2\" >-0.020389</td>\n",
       "                        <td id=\"T_d8e11e4a_df7c_11ee_bb9b_50c2e8c3ad5crow1_col3\" class=\"data row1 col3\" >-0.026957</td>\n",
       "            </tr>\n",
       "            <tr>\n",
       "                        <th id=\"T_d8e11e4a_df7c_11ee_bb9b_50c2e8c3ad5clevel0_row2\" class=\"row_heading level0 row2\" >month</th>\n",
       "                        <td id=\"T_d8e11e4a_df7c_11ee_bb9b_50c2e8c3ad5crow2_col0\" class=\"data row2 col0\" >0.000504</td>\n",
       "                        <td id=\"T_d8e11e4a_df7c_11ee_bb9b_50c2e8c3ad5crow2_col1\" class=\"data row2 col1\" >-0.020389</td>\n",
       "                        <td id=\"T_d8e11e4a_df7c_11ee_bb9b_50c2e8c3ad5crow2_col2\" class=\"data row2 col2\" >1.000000</td>\n",
       "                        <td id=\"T_d8e11e4a_df7c_11ee_bb9b_50c2e8c3ad5crow2_col3\" class=\"data row2 col3\" >-0.022340</td>\n",
       "            </tr>\n",
       "            <tr>\n",
       "                        <th id=\"T_d8e11e4a_df7c_11ee_bb9b_50c2e8c3ad5clevel0_row3\" class=\"row_heading level0 row3\" >k</th>\n",
       "                        <td id=\"T_d8e11e4a_df7c_11ee_bb9b_50c2e8c3ad5crow3_col0\" class=\"data row3 col0\" >0.000016</td>\n",
       "                        <td id=\"T_d8e11e4a_df7c_11ee_bb9b_50c2e8c3ad5crow3_col1\" class=\"data row3 col1\" >-0.026957</td>\n",
       "                        <td id=\"T_d8e11e4a_df7c_11ee_bb9b_50c2e8c3ad5crow3_col2\" class=\"data row3 col2\" >-0.022340</td>\n",
       "                        <td id=\"T_d8e11e4a_df7c_11ee_bb9b_50c2e8c3ad5crow3_col3\" class=\"data row3 col3\" >1.000000</td>\n",
       "            </tr>\n",
       "    </tbody></table>"
      ],
      "text/plain": [
       "<pandas.io.formats.style.Styler at 0x24a06143748>"
      ]
     },
     "execution_count": 8,
     "metadata": {},
     "output_type": "execute_result"
    }
   ],
   "source": [
    "features_col = [\"amount_spend\", \"weekday\", \"month\", \"k\"]\n",
    "X = df[features_col]\n",
    "Y = df[\"y_label\"]\n",
    "\n",
    "corr = X.corr()\n",
    "corr.style.background_gradient(cmap='coolwarm')"
   ]
  },
  {
   "cell_type": "code",
   "execution_count": 9,
   "id": "b5d6e325-fd38-469a-a19e-4495c0339467",
   "metadata": {},
   "outputs": [],
   "source": [
    "X_train, X_test, y_train, y_test = train_test_split(X, Y, test_size=0.2, random_state=42, stratify=df[\"y_label\"])"
   ]
  },
  {
   "cell_type": "code",
   "execution_count": 10,
   "id": "24d6f340-ed7e-4460-a644-188c5a38392a",
   "metadata": {},
   "outputs": [
    {
     "data": {
      "text/html": [
       "<div>\n",
       "<style scoped>\n",
       "    .dataframe tbody tr th:only-of-type {\n",
       "        vertical-align: middle;\n",
       "    }\n",
       "\n",
       "    .dataframe tbody tr th {\n",
       "        vertical-align: top;\n",
       "    }\n",
       "\n",
       "    .dataframe thead th {\n",
       "        text-align: right;\n",
       "    }\n",
       "</style>\n",
       "<table border=\"1\" class=\"dataframe\">\n",
       "  <thead>\n",
       "    <tr style=\"text-align: right;\">\n",
       "      <th></th>\n",
       "      <th>amount_spend</th>\n",
       "      <th>weekday</th>\n",
       "      <th>month</th>\n",
       "      <th>k</th>\n",
       "    </tr>\n",
       "  </thead>\n",
       "  <tbody>\n",
       "    <tr>\n",
       "      <th>441032</th>\n",
       "      <td>178.52</td>\n",
       "      <td>2</td>\n",
       "      <td>4</td>\n",
       "      <td>0.0</td>\n",
       "    </tr>\n",
       "    <tr>\n",
       "      <th>372101</th>\n",
       "      <td>433.28</td>\n",
       "      <td>3</td>\n",
       "      <td>5</td>\n",
       "      <td>3.0</td>\n",
       "    </tr>\n",
       "    <tr>\n",
       "      <th>210644</th>\n",
       "      <td>116.96</td>\n",
       "      <td>4</td>\n",
       "      <td>8</td>\n",
       "      <td>1.0</td>\n",
       "    </tr>\n",
       "    <tr>\n",
       "      <th>410329</th>\n",
       "      <td>101.60</td>\n",
       "      <td>1</td>\n",
       "      <td>6</td>\n",
       "      <td>0.0</td>\n",
       "    </tr>\n",
       "    <tr>\n",
       "      <th>83164</th>\n",
       "      <td>17.10</td>\n",
       "      <td>2</td>\n",
       "      <td>9</td>\n",
       "      <td>0.0</td>\n",
       "    </tr>\n",
       "    <tr>\n",
       "      <th>...</th>\n",
       "      <td>...</td>\n",
       "      <td>...</td>\n",
       "      <td>...</td>\n",
       "      <td>...</td>\n",
       "    </tr>\n",
       "    <tr>\n",
       "      <th>188777</th>\n",
       "      <td>12.27</td>\n",
       "      <td>6</td>\n",
       "      <td>11</td>\n",
       "      <td>0.0</td>\n",
       "    </tr>\n",
       "    <tr>\n",
       "      <th>169989</th>\n",
       "      <td>40.00</td>\n",
       "      <td>0</td>\n",
       "      <td>8</td>\n",
       "      <td>0.0</td>\n",
       "    </tr>\n",
       "    <tr>\n",
       "      <th>317906</th>\n",
       "      <td>8.97</td>\n",
       "      <td>3</td>\n",
       "      <td>3</td>\n",
       "      <td>1.0</td>\n",
       "    </tr>\n",
       "    <tr>\n",
       "      <th>127686</th>\n",
       "      <td>436.00</td>\n",
       "      <td>6</td>\n",
       "      <td>8</td>\n",
       "      <td>1.0</td>\n",
       "    </tr>\n",
       "    <tr>\n",
       "      <th>7708</th>\n",
       "      <td>445.50</td>\n",
       "      <td>3</td>\n",
       "      <td>7</td>\n",
       "      <td>5.0</td>\n",
       "    </tr>\n",
       "  </tbody>\n",
       "</table>\n",
       "<p>349796 rows × 4 columns</p>\n",
       "</div>"
      ],
      "text/plain": [
       "        amount_spend  weekday  month    k\n",
       "441032        178.52        2      4  0.0\n",
       "372101        433.28        3      5  3.0\n",
       "210644        116.96        4      8  1.0\n",
       "410329        101.60        1      6  0.0\n",
       "83164          17.10        2      9  0.0\n",
       "...              ...      ...    ...  ...\n",
       "188777         12.27        6     11  0.0\n",
       "169989         40.00        0      8  0.0\n",
       "317906          8.97        3      3  1.0\n",
       "127686        436.00        6      8  1.0\n",
       "7708          445.50        3      7  5.0\n",
       "\n",
       "[349796 rows x 4 columns]"
      ]
     },
     "execution_count": 10,
     "metadata": {},
     "output_type": "execute_result"
    }
   ],
   "source": [
    "\n",
    "X_train"
   ]
  },
  {
   "cell_type": "code",
   "execution_count": 11,
   "id": "87671ec1-76d8-44fe-a467-bf8edccd2a2a",
   "metadata": {},
   "outputs": [
    {
     "data": {
      "text/plain": [
       "Counter({1: 84571, 0: 2878})"
      ]
     },
     "execution_count": 11,
     "metadata": {},
     "output_type": "execute_result"
    }
   ],
   "source": [
    "Counter(y_test)"
   ]
  },
  {
   "cell_type": "code",
   "execution_count": 12,
   "id": "b33677fb-e17e-427c-b2c2-5221fe1f9a20",
   "metadata": {},
   "outputs": [
    {
     "name": "stderr",
     "output_type": "stream",
     "text": [
      "C:\\Users\\sohai\\miniconda3\\envs\\one_by_zero_submission_2\\lib\\site-packages\\xgboost\\sklearn.py:1224: UserWarning: The use of label encoder in XGBClassifier is deprecated and will be removed in a future release. To remove this warning, do the following: 1) Pass option use_label_encoder=False when constructing XGBClassifier object; and 2) Encode your labels (y) as integers starting with 0, i.e. 0, 1, 2, ..., [num_class - 1].\n",
      "  warnings.warn(label_encoder_deprecation_msg, UserWarning)\n"
     ]
    },
    {
     "name": "stdout",
     "output_type": "stream",
     "text": [
      "[13:26:20] WARNING: C:/Users/Administrator/workspace/xgboost-win64_release_1.5.1/src/learner.cc:1115: Starting in XGBoost 1.3.0, the default evaluation metric used with the objective 'binary:logistic' was changed from 'error' to 'logloss'. Explicitly set eval_metric if you'd like to restore the old behavior.\n"
     ]
    },
    {
     "data": {
      "text/plain": [
       "1.0"
      ]
     },
     "execution_count": 12,
     "metadata": {},
     "output_type": "execute_result"
    }
   ],
   "source": [
    "# Define and train the XGBoostClassifier model\n",
    "model = XGBClassifier()\n",
    "model.fit(X_train, y_train)\n",
    "\n",
    "y_pred = model.predict(X_train)\n",
    "roc_auc_score(y_train,y_pred, average=\"weighted\")"
   ]
  },
  {
   "cell_type": "code",
   "execution_count": 13,
   "id": "ba7a9a3d-7b9f-4662-9151-6fd735debf5b",
   "metadata": {},
   "outputs": [
    {
     "data": {
      "text/plain": [
       "amount_spend    890.0\n",
       "weekday           1.0\n",
       "month             7.0\n",
       "k                 3.0\n",
       "Name: 0, dtype: float64"
      ]
     },
     "execution_count": 13,
     "metadata": {},
     "output_type": "execute_result"
    }
   ],
   "source": [
    "X_train.loc[0]"
   ]
  },
  {
   "cell_type": "code",
   "execution_count": 17,
   "id": "cb2a596a-983b-4696-874c-d2e3b4b7caaa",
   "metadata": {},
   "outputs": [
    {
     "data": {
      "text/plain": [
       "1"
      ]
     },
     "execution_count": 17,
     "metadata": {},
     "output_type": "execute_result"
    }
   ],
   "source": [
    "int(model.predict(X_train.iloc[[0]])[0])"
   ]
  },
  {
   "cell_type": "code",
   "execution_count": 19,
   "id": "7a25e772-f69a-4f7d-94d9-f81caf977661",
   "metadata": {},
   "outputs": [
    {
     "data": {
      "text/plain": [
       "'{\"1\": 1}'"
      ]
     },
     "execution_count": 19,
     "metadata": {},
     "output_type": "execute_result"
    }
   ],
   "source": [
    "import json\n",
    "\n",
    "json.dumps({\"1\":int(model.predict(X_train.iloc[[0]])[0])})"
   ]
  },
  {
   "cell_type": "code",
   "execution_count": 15,
   "id": "9513e44f-697d-428d-92ba-0abe0cf35dae",
   "metadata": {},
   "outputs": [],
   "source": [
    "joblib.dump(model, \"../models/classification_model.pkl\")\n",
    "w = joblib.load( \"../models/classification_model.pkl\")"
   ]
  },
  {
   "cell_type": "code",
   "execution_count": 16,
   "id": "de2301cb-a59a-4e8c-acca-73fbea53118d",
   "metadata": {},
   "outputs": [
    {
     "name": "stderr",
     "output_type": "stream",
     "text": [
      "Python 3.6.13 :: Anaconda, Inc.\n"
     ]
    }
   ],
   "source": [
    "! python --version"
   ]
  }
 ],
 "metadata": {
  "kernelspec": {
   "display_name": "Python 3",
   "language": "python",
   "name": "python3"
  },
  "language_info": {
   "codemirror_mode": {
    "name": "ipython",
    "version": 3
   },
   "file_extension": ".py",
   "mimetype": "text/x-python",
   "name": "python",
   "nbconvert_exporter": "python",
   "pygments_lexer": "ipython3",
   "version": "3.6.13"
  }
 },
 "nbformat": 4,
 "nbformat_minor": 5
}
